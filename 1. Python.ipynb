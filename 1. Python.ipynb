{
 "cells": [
  {
   "cell_type": "code",
   "execution_count": 6,
   "id": "37ae9256",
   "metadata": {},
   "outputs": [
    {
     "name": "stdout",
     "output_type": "stream",
     "text": [
      "Hello World!\n"
     ]
    }
   ],
   "source": [
    "print('Hello World!')"
   ]
  },
  {
   "cell_type": "code",
   "execution_count": 12,
   "id": "adbc92e2",
   "metadata": {},
   "outputs": [],
   "source": [
    "x = 'hello world!'"
   ]
  },
  {
   "cell_type": "code",
   "execution_count": 13,
   "id": "c7b7af7d",
   "metadata": {},
   "outputs": [
    {
     "name": "stdout",
     "output_type": "stream",
     "text": [
      "hello world! <class 'str'>\n"
     ]
    }
   ],
   "source": [
    "print(x, type(x))"
   ]
  },
  {
   "cell_type": "code",
   "execution_count": null,
   "id": "87b85852",
   "metadata": {},
   "outputs": [],
   "source": [
    "#data type\n",
    "# 1 int\n",
    "# str\n",
    "# float\n",
    "#complex\n",
    "# bool\n"
   ]
  },
  {
   "cell_type": "code",
   "execution_count": 7,
   "id": "a93e0a40",
   "metadata": {},
   "outputs": [],
   "source": [
    "a = 10"
   ]
  },
  {
   "cell_type": "code",
   "execution_count": 8,
   "id": "27be2080",
   "metadata": {},
   "outputs": [
    {
     "name": "stdout",
     "output_type": "stream",
     "text": [
      "10\n"
     ]
    }
   ],
   "source": [
    "print(a)"
   ]
  },
  {
   "cell_type": "code",
   "execution_count": 9,
   "id": "c622bfdc",
   "metadata": {},
   "outputs": [
    {
     "data": {
      "text/plain": [
       "int"
      ]
     },
     "execution_count": 9,
     "metadata": {},
     "output_type": "execute_result"
    }
   ],
   "source": [
    "type(a)"
   ]
  },
  {
   "cell_type": "code",
   "execution_count": 10,
   "id": "2c5315ff",
   "metadata": {},
   "outputs": [],
   "source": [
    "b = 5.5"
   ]
  },
  {
   "cell_type": "code",
   "execution_count": 11,
   "id": "c4708ca9",
   "metadata": {},
   "outputs": [
    {
     "name": "stdout",
     "output_type": "stream",
     "text": [
      "5.5 <class 'float'>\n"
     ]
    }
   ],
   "source": [
    "print(b,type(b))"
   ]
  },
  {
   "cell_type": "code",
   "execution_count": 14,
   "id": "2e6b159b",
   "metadata": {},
   "outputs": [],
   "source": [
    "c = 3+5j"
   ]
  },
  {
   "cell_type": "code",
   "execution_count": 15,
   "id": "108611db",
   "metadata": {},
   "outputs": [
    {
     "name": "stdout",
     "output_type": "stream",
     "text": [
      "(3+5j) <class 'complex'>\n"
     ]
    }
   ],
   "source": [
    "print(c, type(c))"
   ]
  },
  {
   "cell_type": "code",
   "execution_count": 16,
   "id": "c154c97f",
   "metadata": {},
   "outputs": [],
   "source": [
    "d = (True)\n"
   ]
  },
  {
   "cell_type": "code",
   "execution_count": 17,
   "id": "83c1e6bd",
   "metadata": {},
   "outputs": [
    {
     "name": "stdout",
     "output_type": "stream",
     "text": [
      "<class 'bool'>\n"
     ]
    }
   ],
   "source": [
    "print(type(d))"
   ]
  },
  {
   "cell_type": "code",
   "execution_count": 18,
   "id": "bfc6576a",
   "metadata": {},
   "outputs": [],
   "source": [
    "# user input"
   ]
  },
  {
   "cell_type": "code",
   "execution_count": 19,
   "id": "1eeb9a15",
   "metadata": {},
   "outputs": [
    {
     "name": "stdout",
     "output_type": "stream",
     "text": [
      "Enter your name:Pintu Verma\n",
      "Enter your age:26\n",
      "All Done!\n"
     ]
    }
   ],
   "source": [
    "user = input('Enter your name:')\n",
    "user1 = int(input('Enter your age:'))\n",
    "print('All Done!')"
   ]
  },
  {
   "cell_type": "code",
   "execution_count": 20,
   "id": "83917836",
   "metadata": {},
   "outputs": [],
   "source": [
    "#Variable: we are creating variable name 'a' for storing the data or elements."
   ]
  },
  {
   "cell_type": "code",
   "execution_count": 21,
   "id": "73df8ee9",
   "metadata": {},
   "outputs": [],
   "source": [
    "a = (20, 50, True, False, 26j, 8.5, 'hello')"
   ]
  },
  {
   "cell_type": "code",
   "execution_count": 22,
   "id": "0a200a78",
   "metadata": {},
   "outputs": [
    {
     "name": "stdout",
     "output_type": "stream",
     "text": [
      "(20, 50, True, False, 26j, 8.5, 'hello')\n"
     ]
    }
   ],
   "source": [
    "print(a)"
   ]
  },
  {
   "cell_type": "code",
   "execution_count": 1,
   "id": "4482a02b",
   "metadata": {},
   "outputs": [],
   "source": [
    "# Place holders"
   ]
  },
  {
   "cell_type": "code",
   "execution_count": 3,
   "id": "bec6de69",
   "metadata": {},
   "outputs": [],
   "source": [
    "a = \"Pintu\"\n",
    "b = 26"
   ]
  },
  {
   "cell_type": "code",
   "execution_count": 7,
   "id": "777ba995",
   "metadata": {},
   "outputs": [
    {
     "name": "stdout",
     "output_type": "stream",
     "text": [
      "My name is Pintu and i am just 26 years old.\n"
     ]
    }
   ],
   "source": [
    "print(\"My name is {} and i am just {} years old.\".format(a, b))"
   ]
  },
  {
   "cell_type": "code",
   "execution_count": null,
   "id": "e6e65b71",
   "metadata": {},
   "outputs": [],
   "source": []
  }
 ],
 "metadata": {
  "kernelspec": {
   "display_name": "Python 3 (ipykernel)",
   "language": "python",
   "name": "python3"
  },
  "language_info": {
   "codemirror_mode": {
    "name": "ipython",
    "version": 3
   },
   "file_extension": ".py",
   "mimetype": "text/x-python",
   "name": "python",
   "nbconvert_exporter": "python",
   "pygments_lexer": "ipython3",
   "version": "3.11.4"
  }
 },
 "nbformat": 4,
 "nbformat_minor": 5
}
