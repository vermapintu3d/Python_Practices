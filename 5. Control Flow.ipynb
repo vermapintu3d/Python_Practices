{
 "cells": [
  {
   "cell_type": "markdown",
   "id": "ef8008bc",
   "metadata": {},
   "source": [
    "# Control Flow\n",
    " 1.Conditional statements\n",
    " 2.LOOPs"
   ]
  },
  {
   "cell_type": "markdown",
   "id": "a64347f8",
   "metadata": {},
   "source": [
    "# 1. Conditional Statements\n",
    "if\n",
    "elif\n",
    "else\n",
    "\n",
    "if (test expression):\n",
    "    logic\n",
    "    logic\n",
    "    logic\n",
    "elif (test expression):\n",
    "    logic\n",
    "else:\n",
    "    logic\n",
    "    logic"
   ]
  },
  {
   "cell_type": "code",
   "execution_count": 3,
   "id": "23fe50d3",
   "metadata": {},
   "outputs": [
    {
     "name": "stdout",
     "output_type": "stream",
     "text": [
      "10\n",
      "You are not eligible for voting\n"
     ]
    }
   ],
   "source": [
    "age = int(input())\n",
    "if age>=18:\n",
    "    print(\"You are eligible for voting\")\n",
    "else:\n",
    "    print(\"You are not eligible for voting\")"
   ]
  },
  {
   "cell_type": "code",
   "execution_count": 6,
   "id": "42099813",
   "metadata": {},
   "outputs": [
    {
     "name": "stdout",
     "output_type": "stream",
     "text": [
      "-10\n",
      "It's negative\n"
     ]
    }
   ],
   "source": [
    "num = int(input())\n",
    "if num>0:\n",
    "    print(\"Positive number\")\n",
    "elif num==0:\n",
    "    print(\"It's zero\")\n",
    "else:\n",
    "    print(\"It's negative\")"
   ]
  },
  {
   "cell_type": "code",
   "execution_count": 7,
   "id": "e6f7a32c",
   "metadata": {},
   "outputs": [],
   "source": [
    "# nesting  - if elif else inside another if elif else"
   ]
  },
  {
   "cell_type": "code",
   "execution_count": 12,
   "id": "28d25045",
   "metadata": {},
   "outputs": [
    {
     "name": "stdout",
     "output_type": "stream",
     "text": [
      "10\n"
     ]
    }
   ],
   "source": [
    "num = int(input())"
   ]
  },
  {
   "cell_type": "code",
   "execution_count": 15,
   "id": "61adcbe4",
   "metadata": {},
   "outputs": [
    {
     "name": "stdout",
     "output_type": "stream",
     "text": [
      "-5\n",
      "It's Negative Number\n"
     ]
    }
   ],
   "source": [
    "num = int(input())\n",
    "if num>=0:\n",
    "    if num==0:\n",
    "        print(\"It's zero\")\n",
    "    else:\n",
    "        print(\"It's Positive number\")\n",
    "else:\n",
    "    print(\"It's Negative Number\")"
   ]
  },
  {
   "cell_type": "code",
   "execution_count": 4,
   "id": "b39dd892",
   "metadata": {},
   "outputs": [
    {
     "name": "stdout",
     "output_type": "stream",
     "text": [
      "31\n"
     ]
    }
   ],
   "source": [
    "num = int(input())\n",
    "if num>=0:       #if ladder\n",
    "    if num==0:\n",
    "        print(\"Its zero\")\n",
    "    if num==10:\n",
    "        print(\"Its ten\")\n",
    "    if num==20:\n",
    "        print(\"Its twenty\")\n",
    "    if num==30:\n",
    "        print(\"Its thirty\")\n",
    "else:\n",
    "    print(\"Nagative number\")"
   ]
  },
  {
   "cell_type": "code",
   "execution_count": 5,
   "id": "437b6789",
   "metadata": {},
   "outputs": [],
   "source": [
    "#elif ladder"
   ]
  },
  {
   "cell_type": "code",
   "execution_count": 13,
   "id": "92f2e232",
   "metadata": {},
   "outputs": [
    {
     "name": "stdout",
     "output_type": "stream",
     "text": [
      "100\n",
      "Thank you for visiting\n"
     ]
    }
   ],
   "source": [
    "spend = int(input())\n",
    "\n",
    "if spend>=20000:\n",
    "    print(\"You will got discount of 20%\")\n",
    "elif spend>=15000 and spend<20000:\n",
    "    print(\"You will got discount of 15%\")\n",
    "elif spend>=10000 and spend<15000:\n",
    "    print(\"You will got discount of 10%\")\n",
    "elif spend>=5000 and spend<10000:\n",
    "    print(\"You will got discount of 5%\")\n",
    "elif spend>=1000 and spend<5000:\n",
    "    print(\"Thank you for visiting, no discount eligible below 5000\")\n",
    "else:\n",
    "    print(\"Thank you for visiting\")"
   ]
  },
  {
   "cell_type": "code",
   "execution_count": null,
   "id": "d3319ab3",
   "metadata": {},
   "outputs": [],
   "source": []
  },
  {
   "cell_type": "code",
   "execution_count": null,
   "id": "81479e87",
   "metadata": {},
   "outputs": [],
   "source": []
  },
  {
   "cell_type": "markdown",
   "id": "6b4851a8",
   "metadata": {},
   "source": [
    "# Loops:\n",
    "1. While loop\n",
    "2. For loops"
   ]
  },
  {
   "cell_type": "code",
   "execution_count": null,
   "id": "aa482566",
   "metadata": {},
   "outputs": [],
   "source": [
    "# 1. While loop"
   ]
  },
  {
   "cell_type": "code",
   "execution_count": null,
   "id": "fa46842d",
   "metadata": {},
   "outputs": [],
   "source": [
    "#process:\n",
    "1. intialization\n",
    "2. stopping condition\n",
    "3. updation\n",
    "\n",
    "start_variable\n",
    "# while (test expression):\n",
    "        logic\n",
    "        upadtion_to_start_variable"
   ]
  },
  {
   "cell_type": "code",
   "execution_count": 2,
   "id": "d821d458",
   "metadata": {},
   "outputs": [
    {
     "name": "stdout",
     "output_type": "stream",
     "text": [
      "1\n",
      "2\n",
      "3\n",
      "4\n",
      "5\n",
      "6\n",
      "7\n",
      "8\n",
      "9\n",
      "10\n",
      "11\n",
      "12\n",
      "13\n",
      "14\n",
      "15\n",
      "16\n",
      "17\n",
      "18\n",
      "19\n",
      "20\n",
      "21\n"
     ]
    }
   ],
   "source": [
    "i=1\n",
    "while i<=21:\n",
    "    print(i)\n",
    "    i+=1"
   ]
  },
  {
   "cell_type": "code",
   "execution_count": 3,
   "id": "74d746ab",
   "metadata": {},
   "outputs": [
    {
     "name": "stdout",
     "output_type": "stream",
     "text": [
      "2\n",
      "4\n",
      "6\n",
      "8\n",
      "10\n",
      "12\n",
      "14\n",
      "16\n",
      "18\n",
      "20\n"
     ]
    }
   ],
   "source": [
    "i=2\n",
    "while i<=20:\n",
    "    print(i)\n",
    "    i+=2"
   ]
  },
  {
   "cell_type": "code",
   "execution_count": 5,
   "id": "a4b94e17",
   "metadata": {},
   "outputs": [
    {
     "name": "stdout",
     "output_type": "stream",
     "text": [
      "2\n",
      "4\n",
      "6\n",
      "8\n",
      "10\n",
      "12\n",
      "14\n",
      "16\n",
      "18\n",
      "20\n"
     ]
    }
   ],
   "source": [
    "i=1\n",
    "while i<=21:\n",
    "    if i%2==0:\n",
    "        print(i)\n",
    "    i+=1"
   ]
  },
  {
   "cell_type": "code",
   "execution_count": 6,
   "id": "228f16c2",
   "metadata": {},
   "outputs": [
    {
     "name": "stdout",
     "output_type": "stream",
     "text": [
      "1\n",
      "3\n",
      "5\n",
      "7\n",
      "9\n",
      "11\n",
      "13\n",
      "15\n",
      "17\n",
      "19\n",
      "21\n"
     ]
    }
   ],
   "source": [
    "i=1\n",
    "while i<=21:\n",
    "    if i%2!=0:\n",
    "        print(i)\n",
    "    i+=1"
   ]
  },
  {
   "cell_type": "code",
   "execution_count": null,
   "id": "2596c620",
   "metadata": {},
   "outputs": [],
   "source": []
  }
 ],
 "metadata": {
  "kernelspec": {
   "display_name": "Python 3 (ipykernel)",
   "language": "python",
   "name": "python3"
  },
  "language_info": {
   "codemirror_mode": {
    "name": "ipython",
    "version": 3
   },
   "file_extension": ".py",
   "mimetype": "text/x-python",
   "name": "python",
   "nbconvert_exporter": "python",
   "pygments_lexer": "ipython3",
   "version": "3.11.4"
  }
 },
 "nbformat": 4,
 "nbformat_minor": 5
}
