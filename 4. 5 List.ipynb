{
 "cells": [
  {
   "cell_type": "markdown",
   "id": "758c420c",
   "metadata": {},
   "source": [
    "#List:\n"
   ]
  },
  {
   "cell_type": "code",
   "execution_count": 10,
   "id": "e640fb9d",
   "metadata": {},
   "outputs": [],
   "source": [
    "l = [10, 20, 15, 50, 60]"
   ]
  },
  {
   "cell_type": "code",
   "execution_count": 11,
   "id": "9a44c7b2",
   "metadata": {},
   "outputs": [
    {
     "data": {
      "text/plain": [
       "[10, 20, 15, 50, 60]"
      ]
     },
     "execution_count": 11,
     "metadata": {},
     "output_type": "execute_result"
    }
   ],
   "source": [
    "l"
   ]
  },
  {
   "cell_type": "code",
   "execution_count": 12,
   "id": "6f26e95f",
   "metadata": {},
   "outputs": [
    {
     "data": {
      "text/plain": [
       "list"
      ]
     },
     "execution_count": 12,
     "metadata": {},
     "output_type": "execute_result"
    }
   ],
   "source": [
    "type(l)"
   ]
  },
  {
   "cell_type": "code",
   "execution_count": 18,
   "id": "4e167153",
   "metadata": {},
   "outputs": [],
   "source": [
    "l = [45, 50, 15, 12, 45 ]"
   ]
  },
  {
   "cell_type": "code",
   "execution_count": 15,
   "id": "95cb8cfc",
   "metadata": {},
   "outputs": [
    {
     "data": {
      "text/plain": [
       "list"
      ]
     },
     "execution_count": 15,
     "metadata": {},
     "output_type": "execute_result"
    }
   ],
   "source": [
    "type(l)"
   ]
  },
  {
   "cell_type": "code",
   "execution_count": 20,
   "id": "e9b1a82a",
   "metadata": {},
   "outputs": [],
   "source": [
    "l.append(100)"
   ]
  },
  {
   "cell_type": "code",
   "execution_count": 21,
   "id": "264eaa0f",
   "metadata": {},
   "outputs": [
    {
     "data": {
      "text/plain": [
       "[45, 50, 15, 12, 45, 100]"
      ]
     },
     "execution_count": 21,
     "metadata": {},
     "output_type": "execute_result"
    }
   ],
   "source": [
    "l"
   ]
  },
  {
   "cell_type": "code",
   "execution_count": 22,
   "id": "d12de47e",
   "metadata": {},
   "outputs": [
    {
     "data": {
      "text/plain": [
       "100"
      ]
     },
     "execution_count": 22,
     "metadata": {},
     "output_type": "execute_result"
    }
   ],
   "source": [
    "l.pop()"
   ]
  },
  {
   "cell_type": "code",
   "execution_count": 23,
   "id": "04fa5b94",
   "metadata": {},
   "outputs": [
    {
     "data": {
      "text/plain": [
       "15"
      ]
     },
     "execution_count": 23,
     "metadata": {},
     "output_type": "execute_result"
    }
   ],
   "source": [
    "l.pop(2)"
   ]
  },
  {
   "cell_type": "code",
   "execution_count": 24,
   "id": "a3f6e810",
   "metadata": {},
   "outputs": [
    {
     "data": {
      "text/plain": [
       "[45, 50, 12, 45]"
      ]
     },
     "execution_count": 24,
     "metadata": {},
     "output_type": "execute_result"
    }
   ],
   "source": [
    "l"
   ]
  },
  {
   "cell_type": "code",
   "execution_count": 26,
   "id": "c20dd246",
   "metadata": {},
   "outputs": [],
   "source": [
    "l.insert(0, \"Python\")"
   ]
  },
  {
   "cell_type": "code",
   "execution_count": 27,
   "id": "87c3707d",
   "metadata": {},
   "outputs": [
    {
     "data": {
      "text/plain": [
       "['Python', 45, 50, 12, 45]"
      ]
     },
     "execution_count": 27,
     "metadata": {},
     "output_type": "execute_result"
    }
   ],
   "source": [
    "l"
   ]
  },
  {
   "cell_type": "code",
   "execution_count": 28,
   "id": "fa4af537",
   "metadata": {},
   "outputs": [],
   "source": [
    "l.remove(45)"
   ]
  },
  {
   "cell_type": "code",
   "execution_count": 29,
   "id": "f32c3999",
   "metadata": {},
   "outputs": [
    {
     "data": {
      "text/plain": [
       "['Python', 50, 12, 45]"
      ]
     },
     "execution_count": 29,
     "metadata": {},
     "output_type": "execute_result"
    }
   ],
   "source": [
    "l"
   ]
  },
  {
   "cell_type": "code",
   "execution_count": 32,
   "id": "e4894799",
   "metadata": {},
   "outputs": [
    {
     "ename": "TypeError",
     "evalue": "'<' not supported between instances of 'int' and 'str'",
     "output_type": "error",
     "traceback": [
      "\u001b[1;31m---------------------------------------------------------------------------\u001b[0m",
      "\u001b[1;31mTypeError\u001b[0m                                 Traceback (most recent call last)",
      "Cell \u001b[1;32mIn[32], line 1\u001b[0m\n\u001b[1;32m----> 1\u001b[0m l\u001b[38;5;241m.\u001b[39msort()\n",
      "\u001b[1;31mTypeError\u001b[0m: '<' not supported between instances of 'int' and 'str'"
     ]
    }
   ],
   "source": [
    "l.sort()"
   ]
  },
  {
   "cell_type": "code",
   "execution_count": 33,
   "id": "1089bc36",
   "metadata": {},
   "outputs": [
    {
     "data": {
      "text/plain": [
       "['Python', 50, 12, 45]"
      ]
     },
     "execution_count": 33,
     "metadata": {},
     "output_type": "execute_result"
    }
   ],
   "source": [
    "l"
   ]
  },
  {
   "cell_type": "code",
   "execution_count": 36,
   "id": "5fc6baab",
   "metadata": {},
   "outputs": [],
   "source": [
    "l.remove(\"Python\")"
   ]
  },
  {
   "cell_type": "code",
   "execution_count": 37,
   "id": "e210325c",
   "metadata": {},
   "outputs": [
    {
     "data": {
      "text/plain": [
       "[50, 12, 45]"
      ]
     },
     "execution_count": 37,
     "metadata": {},
     "output_type": "execute_result"
    }
   ],
   "source": [
    "l"
   ]
  },
  {
   "cell_type": "code",
   "execution_count": 39,
   "id": "f037d29f",
   "metadata": {},
   "outputs": [],
   "source": [
    "l.sort()"
   ]
  },
  {
   "cell_type": "code",
   "execution_count": 41,
   "id": "82836b0d",
   "metadata": {},
   "outputs": [],
   "source": [
    "l.remove(12)"
   ]
  },
  {
   "cell_type": "code",
   "execution_count": 42,
   "id": "5e62f077",
   "metadata": {},
   "outputs": [
    {
     "data": {
      "text/plain": [
       "[45, 50]"
      ]
     },
     "execution_count": 42,
     "metadata": {},
     "output_type": "execute_result"
    }
   ],
   "source": [
    "l"
   ]
  },
  {
   "cell_type": "code",
   "execution_count": 43,
   "id": "015c5475",
   "metadata": {},
   "outputs": [],
   "source": [
    "l.sort()"
   ]
  },
  {
   "cell_type": "code",
   "execution_count": 44,
   "id": "dd4b9b20",
   "metadata": {},
   "outputs": [
    {
     "data": {
      "text/plain": [
       "[45, 50]"
      ]
     },
     "execution_count": 44,
     "metadata": {},
     "output_type": "execute_result"
    }
   ],
   "source": [
    "l"
   ]
  },
  {
   "cell_type": "code",
   "execution_count": 46,
   "id": "5420fec0",
   "metadata": {},
   "outputs": [],
   "source": [
    "l.append([15, 56, 48])"
   ]
  },
  {
   "cell_type": "code",
   "execution_count": 47,
   "id": "423a18d8",
   "metadata": {},
   "outputs": [
    {
     "data": {
      "text/plain": [
       "[45, 50, [15, 56, 48]]"
      ]
     },
     "execution_count": 47,
     "metadata": {},
     "output_type": "execute_result"
    }
   ],
   "source": [
    "l"
   ]
  },
  {
   "cell_type": "code",
   "execution_count": 48,
   "id": "1552040e",
   "metadata": {},
   "outputs": [
    {
     "ename": "TypeError",
     "evalue": "'<' not supported between instances of 'int' and 'list'",
     "output_type": "error",
     "traceback": [
      "\u001b[1;31m---------------------------------------------------------------------------\u001b[0m",
      "\u001b[1;31mTypeError\u001b[0m                                 Traceback (most recent call last)",
      "Cell \u001b[1;32mIn[48], line 1\u001b[0m\n\u001b[1;32m----> 1\u001b[0m l\u001b[38;5;241m.\u001b[39msort(reverse\u001b[38;5;241m=\u001b[39m\u001b[38;5;28;01mTrue\u001b[39;00m)\n",
      "\u001b[1;31mTypeError\u001b[0m: '<' not supported between instances of 'int' and 'list'"
     ]
    }
   ],
   "source": [
    "l.sort(reverse=True)"
   ]
  },
  {
   "cell_type": "code",
   "execution_count": 49,
   "id": "996914ba",
   "metadata": {},
   "outputs": [
    {
     "data": {
      "text/plain": [
       "[15, 56, 48]"
      ]
     },
     "execution_count": 49,
     "metadata": {},
     "output_type": "execute_result"
    }
   ],
   "source": [
    "l.pop()"
   ]
  },
  {
   "cell_type": "code",
   "execution_count": 50,
   "id": "eb3cc692",
   "metadata": {},
   "outputs": [
    {
     "data": {
      "text/plain": [
       "[45, 50]"
      ]
     },
     "execution_count": 50,
     "metadata": {},
     "output_type": "execute_result"
    }
   ],
   "source": [
    "l"
   ]
  },
  {
   "cell_type": "code",
   "execution_count": 51,
   "id": "1d41b749",
   "metadata": {},
   "outputs": [],
   "source": [
    "l.sort(reverse=True)"
   ]
  },
  {
   "cell_type": "code",
   "execution_count": 52,
   "id": "e766fc90",
   "metadata": {},
   "outputs": [
    {
     "data": {
      "text/plain": [
       "[50, 45]"
      ]
     },
     "execution_count": 52,
     "metadata": {},
     "output_type": "execute_result"
    }
   ],
   "source": [
    "l"
   ]
  },
  {
   "cell_type": "code",
   "execution_count": 1,
   "id": "b60d003e",
   "metadata": {},
   "outputs": [],
   "source": [
    "l = [50, 10, 5, 15, 20]"
   ]
  },
  {
   "cell_type": "code",
   "execution_count": 2,
   "id": "98b6ab04",
   "metadata": {},
   "outputs": [
    {
     "data": {
      "text/plain": [
       "[50, 10, 5, 15, 20]"
      ]
     },
     "execution_count": 2,
     "metadata": {},
     "output_type": "execute_result"
    }
   ],
   "source": [
    "l"
   ]
  },
  {
   "cell_type": "code",
   "execution_count": 3,
   "id": "dd2f96b5",
   "metadata": {},
   "outputs": [
    {
     "data": {
      "text/plain": [
       "True"
      ]
     },
     "execution_count": 3,
     "metadata": {},
     "output_type": "execute_result"
    }
   ],
   "source": [
    "50 in l"
   ]
  },
  {
   "cell_type": "code",
   "execution_count": 4,
   "id": "cb231faf",
   "metadata": {},
   "outputs": [
    {
     "data": {
      "text/plain": [
       "True"
      ]
     },
     "execution_count": 4,
     "metadata": {},
     "output_type": "execute_result"
    }
   ],
   "source": [
    "200 not in l"
   ]
  },
  {
   "cell_type": "code",
   "execution_count": 19,
   "id": "ac4d60ae",
   "metadata": {},
   "outputs": [
    {
     "data": {
      "text/plain": [
       "[50, 10, 5, 15, 20]"
      ]
     },
     "execution_count": 19,
     "metadata": {},
     "output_type": "execute_result"
    }
   ],
   "source": [
    "l"
   ]
  },
  {
   "cell_type": "code",
   "execution_count": 23,
   "id": "4aff6ddd",
   "metadata": {},
   "outputs": [
    {
     "name": "stdout",
     "output_type": "stream",
     "text": [
      "100\n",
      "20\n",
      "10\n",
      "30\n",
      "40\n"
     ]
    }
   ],
   "source": [
    "for i in l:\n",
    "    print(i*2)"
   ]
  },
  {
   "cell_type": "code",
   "execution_count": 24,
   "id": "9b118c96",
   "metadata": {},
   "outputs": [],
   "source": [
    "#Append vs extend"
   ]
  },
  {
   "cell_type": "code",
   "execution_count": 25,
   "id": "8545517d",
   "metadata": {},
   "outputs": [
    {
     "data": {
      "text/plain": [
       "[50, 10, 5, 15, 20]"
      ]
     },
     "execution_count": 25,
     "metadata": {},
     "output_type": "execute_result"
    }
   ],
   "source": [
    "l"
   ]
  },
  {
   "cell_type": "code",
   "execution_count": 26,
   "id": "ccf389b5",
   "metadata": {},
   "outputs": [],
   "source": [
    "l.append(150)"
   ]
  },
  {
   "cell_type": "code",
   "execution_count": 27,
   "id": "7761d858",
   "metadata": {},
   "outputs": [
    {
     "data": {
      "text/plain": [
       "[50, 10, 5, 15, 20, 150]"
      ]
     },
     "execution_count": 27,
     "metadata": {},
     "output_type": "execute_result"
    }
   ],
   "source": [
    "l"
   ]
  },
  {
   "cell_type": "code",
   "execution_count": 28,
   "id": "7ee6f78e",
   "metadata": {},
   "outputs": [],
   "source": [
    "l.extend([150])"
   ]
  },
  {
   "cell_type": "code",
   "execution_count": 29,
   "id": "c8037eec",
   "metadata": {},
   "outputs": [
    {
     "data": {
      "text/plain": [
       "[50, 10, 5, 15, 20, 150, 150]"
      ]
     },
     "execution_count": 29,
     "metadata": {},
     "output_type": "execute_result"
    }
   ],
   "source": [
    "l"
   ]
  },
  {
   "cell_type": "code",
   "execution_count": 30,
   "id": "448a7cf6",
   "metadata": {},
   "outputs": [],
   "source": [
    "l.append([10,20,50])"
   ]
  },
  {
   "cell_type": "code",
   "execution_count": 31,
   "id": "3a948e66",
   "metadata": {},
   "outputs": [
    {
     "data": {
      "text/plain": [
       "[50, 10, 5, 15, 20, 150, 150, [10, 20, 50]]"
      ]
     },
     "execution_count": 31,
     "metadata": {},
     "output_type": "execute_result"
    }
   ],
   "source": [
    "l"
   ]
  },
  {
   "cell_type": "code",
   "execution_count": 32,
   "id": "790699cf",
   "metadata": {},
   "outputs": [
    {
     "data": {
      "text/plain": [
       "[50, 10, 5, 15, 20, 150, 150, [10, 20, 50]]"
      ]
     },
     "execution_count": 32,
     "metadata": {},
     "output_type": "execute_result"
    }
   ],
   "source": [
    "l"
   ]
  },
  {
   "cell_type": "code",
   "execution_count": 45,
   "id": "5d78b4be",
   "metadata": {},
   "outputs": [
    {
     "data": {
      "text/plain": [
       "[5, 10, 15, 20, 50, 50, 80, 80, 100, 100, 150, 150]"
      ]
     },
     "execution_count": 45,
     "metadata": {},
     "output_type": "execute_result"
    }
   ],
   "source": [
    "l"
   ]
  },
  {
   "cell_type": "code",
   "execution_count": 35,
   "id": "1efdc507",
   "metadata": {},
   "outputs": [],
   "source": [
    "l.extend([50,80,100])"
   ]
  },
  {
   "cell_type": "code",
   "execution_count": 38,
   "id": "8954a567",
   "metadata": {},
   "outputs": [
    {
     "data": {
      "text/plain": [
       "[50, 10, 5, 15, 20, 150, 150, 50, 80, 100, 50, 80, 100]"
      ]
     },
     "execution_count": 38,
     "metadata": {},
     "output_type": "execute_result"
    }
   ],
   "source": [
    "l"
   ]
  },
  {
   "cell_type": "code",
   "execution_count": 43,
   "id": "4e72c894",
   "metadata": {},
   "outputs": [],
   "source": [
    "l.sort()"
   ]
  },
  {
   "cell_type": "code",
   "execution_count": 44,
   "id": "af068ba3",
   "metadata": {},
   "outputs": [
    {
     "data": {
      "text/plain": [
       "[5, 10, 15, 20, 50, 50, 80, 80, 100, 100, 150, 150]"
      ]
     },
     "execution_count": 44,
     "metadata": {},
     "output_type": "execute_result"
    }
   ],
   "source": [
    "l"
   ]
  },
  {
   "cell_type": "code",
   "execution_count": null,
   "id": "e1828e1b",
   "metadata": {},
   "outputs": [],
   "source": []
  },
  {
   "cell_type": "code",
   "execution_count": 37,
   "id": "b9c11cea",
   "metadata": {},
   "outputs": [
    {
     "data": {
      "text/plain": [
       "[50, 10, 5, 15, 20, 150, 150, 50, 80, 100, 50, 80, 100]"
      ]
     },
     "execution_count": 37,
     "metadata": {},
     "output_type": "execute_result"
    }
   ],
   "source": [
    "l"
   ]
  },
  {
   "cell_type": "code",
   "execution_count": 46,
   "id": "86ea20a3",
   "metadata": {},
   "outputs": [],
   "source": [
    "h = \"This is a python class\""
   ]
  },
  {
   "cell_type": "code",
   "execution_count": 47,
   "id": "c75a5bde",
   "metadata": {},
   "outputs": [],
   "source": [
    "f = h.split()"
   ]
  },
  {
   "cell_type": "code",
   "execution_count": 49,
   "id": "43cdfccd",
   "metadata": {},
   "outputs": [
    {
     "data": {
      "text/plain": [
       "['This', 'is', 'a', 'python', 'class']"
      ]
     },
     "execution_count": 49,
     "metadata": {},
     "output_type": "execute_result"
    }
   ],
   "source": [
    "f"
   ]
  },
  {
   "cell_type": "code",
   "execution_count": 50,
   "id": "1888fb0f",
   "metadata": {},
   "outputs": [
    {
     "data": {
      "text/plain": [
       "'This is a python class'"
      ]
     },
     "execution_count": 50,
     "metadata": {},
     "output_type": "execute_result"
    }
   ],
   "source": [
    "\" \".join(f)"
   ]
  },
  {
   "cell_type": "code",
   "execution_count": 51,
   "id": "c0154c6d",
   "metadata": {},
   "outputs": [],
   "source": [
    "#list Comprehension"
   ]
  },
  {
   "cell_type": "code",
   "execution_count": null,
   "id": "b685db5a",
   "metadata": {},
   "outputs": [],
   "source": []
  }
 ],
 "metadata": {
  "kernelspec": {
   "display_name": "Python 3 (ipykernel)",
   "language": "python",
   "name": "python3"
  },
  "language_info": {
   "codemirror_mode": {
    "name": "ipython",
    "version": 3
   },
   "file_extension": ".py",
   "mimetype": "text/x-python",
   "name": "python",
   "nbconvert_exporter": "python",
   "pygments_lexer": "ipython3",
   "version": "3.11.4"
  }
 },
 "nbformat": 4,
 "nbformat_minor": 5
}
