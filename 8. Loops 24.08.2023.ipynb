{
 "cells": [
  {
   "cell_type": "code",
   "execution_count": 1,
   "id": "808e8fdd",
   "metadata": {},
   "outputs": [],
   "source": [
    "#While loops"
   ]
  },
  {
   "cell_type": "raw",
   "id": "3f67cbbb",
   "metadata": {},
   "source": [
    "# process:\n",
    "1. intialization\n",
    "2. stopping condition\n",
    "3. updation\n",
    "start_variable\n",
    "\n",
    "while (test expression):\n",
    "\n",
    "logic\n",
    "upadtion_to_start_variable"
   ]
  },
  {
   "cell_type": "code",
   "execution_count": 3,
   "id": "477ee668",
   "metadata": {},
   "outputs": [
    {
     "name": "stdout",
     "output_type": "stream",
     "text": [
      "1\n",
      "2\n",
      "3\n",
      "4\n",
      "5\n",
      "6\n",
      "7\n",
      "8\n",
      "9\n",
      "10\n",
      "11\n",
      "12\n",
      "13\n",
      "14\n",
      "15\n",
      "16\n",
      "17\n",
      "18\n",
      "19\n",
      "20\n",
      "21\n"
     ]
    }
   ],
   "source": [
    "i=1\n",
    "while i<=21:\n",
    "    print(i)\n",
    "    i+=1"
   ]
  },
  {
   "cell_type": "code",
   "execution_count": 4,
   "id": "11a2dc8b",
   "metadata": {},
   "outputs": [
    {
     "name": "stdout",
     "output_type": "stream",
     "text": [
      "2\n",
      "4\n",
      "6\n",
      "8\n",
      "10\n",
      "12\n",
      "14\n",
      "16\n",
      "18\n",
      "20\n"
     ]
    }
   ],
   "source": [
    "i=2\n",
    "while i<=21:\n",
    "    print(i)\n",
    "    i+=2"
   ]
  },
  {
   "cell_type": "code",
   "execution_count": 7,
   "id": "32810df7",
   "metadata": {},
   "outputs": [
    {
     "name": "stdout",
     "output_type": "stream",
     "text": [
      "2\n",
      "4\n",
      "6\n",
      "8\n",
      "10\n",
      "12\n",
      "14\n",
      "16\n",
      "18\n",
      "20\n"
     ]
    }
   ],
   "source": [
    "i=2\n",
    "while i<=21:\n",
    "    if i%2==0:\n",
    "        print(i)\n",
    "    i+=1"
   ]
  },
  {
   "cell_type": "code",
   "execution_count": 8,
   "id": "bd53a840",
   "metadata": {},
   "outputs": [
    {
     "name": "stdout",
     "output_type": "stream",
     "text": [
      "1\n",
      "3\n",
      "5\n",
      "7\n",
      "9\n",
      "11\n",
      "13\n",
      "15\n",
      "17\n",
      "19\n",
      "21\n"
     ]
    }
   ],
   "source": [
    "i=0\n",
    "while i<=21:\n",
    "    if i%2!=0:\n",
    "        print(i)\n",
    "    i+=1"
   ]
  },
  {
   "cell_type": "code",
   "execution_count": 10,
   "id": "05324f4a",
   "metadata": {},
   "outputs": [
    {
     "name": "stdout",
     "output_type": "stream",
     "text": [
      "0\n",
      "1\n",
      "2\n",
      "3\n",
      "4\n",
      "5\n",
      "6\n",
      "7\n",
      "8\n",
      "9\n",
      "10\n",
      "Hello World!\n"
     ]
    }
   ],
   "source": [
    "i=0\n",
    "while i<=10:\n",
    "    print(i)\n",
    "    i+=1\n",
    "else:\n",
    "    print(\"Hello World!\")"
   ]
  },
  {
   "cell_type": "markdown",
   "id": "f795d090",
   "metadata": {},
   "source": [
    "# while True  = infinite"
   ]
  },
  {
   "cell_type": "code",
   "execution_count": 154,
   "id": "33931923",
   "metadata": {},
   "outputs": [
    {
     "name": "stdout",
     "output_type": "stream",
     "text": [
      "5\n",
      "15\n"
     ]
    }
   ],
   "source": [
    "h = int(input())\n",
    "sum_=0\n",
    "while True:\n",
    "    sum_+=h\n",
    "    h-=1\n",
    "    \n",
    "    if h==0:\n",
    "        break\n",
    "print(sum_)"
   ]
  },
  {
   "cell_type": "code",
   "execution_count": 27,
   "id": "26610c98",
   "metadata": {},
   "outputs": [
    {
     "data": {
      "text/plain": [
       "[1, 2, 3, 4, 5, 6, 7, 8, 9, 10, 11, 12, 13, 14, 15, 16, 17, 18, 19, 20]"
      ]
     },
     "execution_count": 27,
     "metadata": {},
     "output_type": "execute_result"
    }
   ],
   "source": [
    "list(range(1, 21))"
   ]
  },
  {
   "cell_type": "code",
   "execution_count": 29,
   "id": "d54b6c48",
   "metadata": {},
   "outputs": [
    {
     "name": "stdout",
     "output_type": "stream",
     "text": [
      "1\n",
      "2\n",
      "3\n",
      "4\n",
      "5\n",
      "6\n",
      "7\n",
      "8\n",
      "9\n",
      "10\n"
     ]
    }
   ],
   "source": [
    "for i in range(1,11):\n",
    "    print(i)"
   ]
  },
  {
   "cell_type": "code",
   "execution_count": 32,
   "id": "e18a7eba",
   "metadata": {},
   "outputs": [
    {
     "name": "stdout",
     "output_type": "stream",
     "text": [
      "1\n",
      "3\n",
      "5\n",
      "7\n",
      "9\n",
      "11\n",
      "13\n",
      "15\n",
      "17\n",
      "19\n",
      "Old number\n"
     ]
    }
   ],
   "source": [
    "for i in range(1,21,2):\n",
    "    print(i)\n",
    "else:\n",
    "    print(\"Old number\")"
   ]
  },
  {
   "cell_type": "code",
   "execution_count": 31,
   "id": "9edf6166",
   "metadata": {},
   "outputs": [
    {
     "name": "stdout",
     "output_type": "stream",
     "text": [
      "2\n",
      "4\n",
      "6\n",
      "8\n",
      "10\n",
      "12\n",
      "14\n",
      "16\n",
      "18\n",
      "20\n",
      "Even number\n"
     ]
    }
   ],
   "source": [
    "for i in range(2, 21, 2):\n",
    "    print(i)\n",
    "else:\n",
    "    print(\"Even number\")"
   ]
  },
  {
   "cell_type": "code",
   "execution_count": 34,
   "id": "493bfe1e",
   "metadata": {},
   "outputs": [
    {
     "name": "stdout",
     "output_type": "stream",
     "text": [
      "1 2 3 4 5 6 7 8 9 10 "
     ]
    }
   ],
   "source": [
    "for i in range(1, 11):\n",
    "    print(i, end=\" \")"
   ]
  },
  {
   "cell_type": "code",
   "execution_count": 35,
   "id": "3d370598",
   "metadata": {},
   "outputs": [
    {
     "name": "stdout",
     "output_type": "stream",
     "text": [
      "1,2,3,4,5,6,7,8,9,10,"
     ]
    }
   ],
   "source": [
    "for i in range(1, 11):\n",
    "    print(i, end=\",\")"
   ]
  },
  {
   "cell_type": "code",
   "execution_count": 36,
   "id": "f1fd94eb",
   "metadata": {},
   "outputs": [
    {
     "name": "stdout",
     "output_type": "stream",
     "text": [
      "1 2 3 4 5 6 7 8 9 10 \n",
      "All Done\n"
     ]
    }
   ],
   "source": [
    "for i in range(1, 11):\n",
    "    print(i, end=\" \")\n",
    "else:\n",
    "    print()\n",
    "    print(\"All Done\")"
   ]
  },
  {
   "cell_type": "code",
   "execution_count": 38,
   "id": "1416383a",
   "metadata": {},
   "outputs": [
    {
     "data": {
      "text/plain": [
       "(1, 3, 5, 7, 9, 11, 13, 15, 17, 19)"
      ]
     },
     "execution_count": 38,
     "metadata": {},
     "output_type": "execute_result"
    }
   ],
   "source": [
    "tuple(range(1, 21, 2))"
   ]
  },
  {
   "cell_type": "code",
   "execution_count": 40,
   "id": "b99da38d",
   "metadata": {},
   "outputs": [
    {
     "name": "stdout",
     "output_type": "stream",
     "text": [
      "2\n",
      "4\n",
      "6\n",
      "8\n",
      "10\n",
      "12\n",
      "14\n",
      "16\n",
      "18\n",
      "20\n",
      "All done\n"
     ]
    }
   ],
   "source": [
    "for i in range(2,21,2):\n",
    "    print(i)\n",
    "else:\n",
    "    print(\"All done\")"
   ]
  },
  {
   "cell_type": "code",
   "execution_count": 41,
   "id": "528c60c4",
   "metadata": {},
   "outputs": [],
   "source": [
    "d = [10, 20, 50, 5, 2]"
   ]
  },
  {
   "cell_type": "code",
   "execution_count": 42,
   "id": "105a1de4",
   "metadata": {},
   "outputs": [
    {
     "name": "stdout",
     "output_type": "stream",
     "text": [
      "100\n",
      "400\n",
      "2500\n",
      "25\n",
      "4\n"
     ]
    }
   ],
   "source": [
    "for i in d:\n",
    "    print(i**2)"
   ]
  },
  {
   "cell_type": "code",
   "execution_count": 43,
   "id": "e5ecadc8",
   "metadata": {},
   "outputs": [
    {
     "name": "stdout",
     "output_type": "stream",
     "text": [
      "50\n",
      "60\n",
      "70\n"
     ]
    }
   ],
   "source": [
    "for i in (50, 60, 70):\n",
    "    print(i)"
   ]
  },
  {
   "cell_type": "code",
   "execution_count": 44,
   "id": "3c3175a3",
   "metadata": {},
   "outputs": [
    {
     "name": "stdout",
     "output_type": "stream",
     "text": [
      "A\n",
      "p\n",
      "p\n",
      "l\n",
      "e\n"
     ]
    }
   ],
   "source": [
    "for i in \"Apple\":\n",
    "    print(i)"
   ]
  },
  {
   "cell_type": "code",
   "execution_count": 45,
   "id": "502aad36",
   "metadata": {},
   "outputs": [],
   "source": [
    "h=10\n",
    "g=50"
   ]
  },
  {
   "cell_type": "code",
   "execution_count": 46,
   "id": "40f60c28",
   "metadata": {},
   "outputs": [
    {
     "name": "stdout",
     "output_type": "stream",
     "text": [
      "The first number is 10, and the second number is 50\n"
     ]
    }
   ],
   "source": [
    "print(f\"The first number is {h}, and the second number is {g}\")  #Mostly used this method"
   ]
  },
  {
   "cell_type": "code",
   "execution_count": 48,
   "id": "4019107d",
   "metadata": {},
   "outputs": [
    {
     "name": "stdout",
     "output_type": "stream",
     "text": [
      "The fist number is 10, and the second number is 50\n"
     ]
    }
   ],
   "source": [
    "print(\"The fist number is {}, and the second number is {}\".format(h, g))  # Old method"
   ]
  },
  {
   "cell_type": "code",
   "execution_count": 51,
   "id": "941f6814",
   "metadata": {},
   "outputs": [
    {
     "name": "stdout",
     "output_type": "stream",
     "text": [
      "Enter number:5\n",
      "5*1=5\n",
      "5*2=10\n",
      "5*3=15\n",
      "5*4=20\n",
      "5*5=25\n",
      "5*6=30\n",
      "5*7=35\n",
      "5*8=40\n",
      "5*9=45\n",
      "5*10=50\n"
     ]
    }
   ],
   "source": [
    "n = int(input(\"Enter number:\"))\n",
    "for i in range(1, 11):\n",
    "    print(f\"{n}*{i}={n*i}\")"
   ]
  },
  {
   "cell_type": "markdown",
   "id": "939d336c",
   "metadata": {},
   "source": [
    "# pattern printing\n",
    "observations:\n",
    "    1. number of rows = n\n",
    "    2. number of rows = number of stars"
   ]
  },
  {
   "cell_type": "code",
   "execution_count": null,
   "id": "85014b48",
   "metadata": {},
   "outputs": [],
   "source": [
    "*\n",
    "**\n",
    "***\n",
    "****\n",
    "*****"
   ]
  },
  {
   "cell_type": "markdown",
   "id": "a543f2f1",
   "metadata": {},
   "source": [
    "# nested loop"
   ]
  },
  {
   "cell_type": "code",
   "execution_count": 56,
   "id": "2119b0ce",
   "metadata": {},
   "outputs": [
    {
     "name": "stdout",
     "output_type": "stream",
     "text": [
      "*\n",
      "**\n",
      "***\n",
      "****\n",
      "*****\n"
     ]
    }
   ],
   "source": [
    "n=5\n",
    "for i in range(1, n+1):\n",
    "    for j in range(0,i):\n",
    "        print(\"*\", end=\"\")\n",
    "    print()"
   ]
  },
  {
   "cell_type": "code",
   "execution_count": 57,
   "id": "363f5757",
   "metadata": {},
   "outputs": [
    {
     "name": "stdout",
     "output_type": "stream",
     "text": [
      "*\n",
      "**\n",
      "***\n",
      "****\n",
      "*****\n"
     ]
    }
   ],
   "source": [
    "for i in range(1, n+1):\n",
    "    print(\"*\"*i)"
   ]
  },
  {
   "cell_type": "markdown",
   "id": "76583688",
   "metadata": {},
   "source": [
    "# Task for print the pattern like below:"
   ]
  },
  {
   "cell_type": "code",
   "execution_count": null,
   "id": "5668ee71",
   "metadata": {},
   "outputs": [],
   "source": [
    "*****\n",
    "****\n",
    "***\n",
    "**\n",
    "*"
   ]
  },
  {
   "cell_type": "code",
   "execution_count": 81,
   "id": "a9dd8510",
   "metadata": {},
   "outputs": [
    {
     "name": "stdout",
     "output_type": "stream",
     "text": [
      "*\n",
      "**\n",
      "***\n",
      "****\n",
      "*****\n"
     ]
    }
   ],
   "source": [
    "n=5\n",
    "for i in range(1,n+1):\n",
    "    for j in range(0,i):\n",
    "        print(\"*\",end=\"\")\n",
    "    print()"
   ]
  },
  {
   "cell_type": "code",
   "execution_count": 88,
   "id": "15c75757",
   "metadata": {},
   "outputs": [
    {
     "name": "stdout",
     "output_type": "stream",
     "text": [
      "7\n"
     ]
    }
   ],
   "source": [
    "n=int(input())"
   ]
  },
  {
   "cell_type": "code",
   "execution_count": 92,
   "id": "7df676c0",
   "metadata": {},
   "outputs": [
    {
     "name": "stdout",
     "output_type": "stream",
     "text": [
      "0\n",
      "12\n",
      "345\n",
      "6789\n",
      "1011121314\n",
      "151617181920\n",
      "21222324252627\n"
     ]
    }
   ],
   "source": [
    "num=0\n",
    "for i in range(1,n+1):\n",
    "    for j in range(i):\n",
    "        print(num, end=\"\")\n",
    "        num+=1\n",
    "    print()"
   ]
  },
  {
   "cell_type": "raw",
   "id": "f8c95e2e",
   "metadata": {},
   "source": [
    "* * * * *\n",
    "*       *\n",
    "*       *\n",
    "*       *\n",
    "* * * * *"
   ]
  },
  {
   "cell_type": "code",
   "execution_count": 102,
   "id": "8c23246f",
   "metadata": {},
   "outputs": [
    {
     "name": "stdout",
     "output_type": "stream",
     "text": [
      "* * * * * \n",
      "*       * \n",
      "*       * \n",
      "*       * \n",
      "* * * * * \n"
     ]
    }
   ],
   "source": [
    "side_length = 5\n",
    "for i in range(side_length):\n",
    "    for j in range(side_length):\n",
    "        if i==0 or i==side_length-1 or j==0 or j==side_length-1:\n",
    "            print(\"*\", end=\" \")\n",
    "        else:\n",
    "            print(\" \", end=\" \")\n",
    "    print()"
   ]
  },
  {
   "cell_type": "code",
   "execution_count": 104,
   "id": "73bb64c4",
   "metadata": {},
   "outputs": [
    {
     "data": {
      "text/plain": [
       "[0, 1, 2, 3, 4]"
      ]
     },
     "execution_count": 104,
     "metadata": {},
     "output_type": "execute_result"
    }
   ],
   "source": [
    "list(range(side_length))"
   ]
  },
  {
   "cell_type": "code",
   "execution_count": 118,
   "id": "c0d96d98",
   "metadata": {},
   "outputs": [
    {
     "name": "stdout",
     "output_type": "stream",
     "text": [
      "*****\n",
      "*   *\n",
      "*   *\n",
      "*   *\n",
      "*****\n"
     ]
    }
   ],
   "source": [
    "side_length=5\n",
    "for i in range(side_length):\n",
    "    if i==0 or i==side_length-1:\n",
    "        print(\"*\"*side_length)\n",
    "    else:\n",
    "        print(\"*\"+\" \"*(side_length-2)+\"*\")"
   ]
  },
  {
   "cell_type": "code",
   "execution_count": 119,
   "id": "1104bee0",
   "metadata": {},
   "outputs": [],
   "source": [
    "# sum of first n natural numbers"
   ]
  },
  {
   "cell_type": "code",
   "execution_count": 124,
   "id": "b6b19c69",
   "metadata": {},
   "outputs": [
    {
     "name": "stdout",
     "output_type": "stream",
     "text": [
      "enter the any number:5\n",
      "the sum of first n natural number 15\n"
     ]
    }
   ],
   "source": [
    "n = int(input(\"enter the any number:\"))\n",
    "s = 0\n",
    "for i in range(1, n+1):\n",
    "    s+=i\n",
    "print(f\"the sum of first n natural number {s}\")"
   ]
  },
  {
   "cell_type": "markdown",
   "id": "771e7f0d",
   "metadata": {},
   "source": [
    "# Break, Continure and pass"
   ]
  },
  {
   "cell_type": "code",
   "execution_count": 126,
   "id": "4063c30d",
   "metadata": {},
   "outputs": [
    {
     "name": "stdout",
     "output_type": "stream",
     "text": [
      "1\n",
      "2\n",
      "3\n",
      "4\n"
     ]
    }
   ],
   "source": [
    "for i in range(1, 10):\n",
    "    if i==5:\n",
    "        break\n",
    "    print(i)"
   ]
  },
  {
   "cell_type": "code",
   "execution_count": 127,
   "id": "a612013a",
   "metadata": {},
   "outputs": [
    {
     "name": "stdout",
     "output_type": "stream",
     "text": [
      "1\n",
      "2\n",
      "3\n",
      "5\n",
      "6\n",
      "7\n",
      "8\n",
      "9\n"
     ]
    }
   ],
   "source": [
    "for i in range(1, 10):\n",
    "    if i==4:\n",
    "        continue\n",
    "    print(i)"
   ]
  },
  {
   "cell_type": "code",
   "execution_count": 128,
   "id": "008385a6",
   "metadata": {},
   "outputs": [],
   "source": [
    "l = [50, 40, \"Python\", \"Pintu\", 78]"
   ]
  },
  {
   "cell_type": "code",
   "execution_count": 129,
   "id": "86b0ebee",
   "metadata": {},
   "outputs": [
    {
     "data": {
      "text/plain": [
       "[50, 40, 'Python', 'Pintu', 78]"
      ]
     },
     "execution_count": 129,
     "metadata": {},
     "output_type": "execute_result"
    }
   ],
   "source": [
    "l"
   ]
  },
  {
   "cell_type": "code",
   "execution_count": 133,
   "id": "31572f6b",
   "metadata": {},
   "outputs": [
    {
     "data": {
      "text/plain": [
       "('Python', 78)"
      ]
     },
     "execution_count": 133,
     "metadata": {},
     "output_type": "execute_result"
    }
   ],
   "source": [
    "l.pop(2), l.pop(3)"
   ]
  },
  {
   "cell_type": "code",
   "execution_count": 134,
   "id": "edc6aefc",
   "metadata": {},
   "outputs": [
    {
     "data": {
      "text/plain": [
       "[50, 40, 'Pintu']"
      ]
     },
     "execution_count": 134,
     "metadata": {},
     "output_type": "execute_result"
    }
   ],
   "source": [
    "l"
   ]
  },
  {
   "cell_type": "code",
   "execution_count": 135,
   "id": "cf8c587d",
   "metadata": {},
   "outputs": [],
   "source": [
    "del l "
   ]
  },
  {
   "cell_type": "code",
   "execution_count": 137,
   "id": "33ccab9c",
   "metadata": {},
   "outputs": [],
   "source": [
    "l = [50, 60, 5, 2, 3]"
   ]
  },
  {
   "cell_type": "code",
   "execution_count": 138,
   "id": "d9874021",
   "metadata": {},
   "outputs": [
    {
     "data": {
      "text/plain": [
       "[50, 60, 5, 2, 3]"
      ]
     },
     "execution_count": 138,
     "metadata": {},
     "output_type": "execute_result"
    }
   ],
   "source": [
    "l"
   ]
  },
  {
   "cell_type": "code",
   "execution_count": 145,
   "id": "51b6f1ea",
   "metadata": {},
   "outputs": [
    {
     "name": "stdout",
     "output_type": "stream",
     "text": [
      "1\n",
      "2\n",
      "3\n",
      "4\n"
     ]
    }
   ],
   "source": [
    "for i in range(1, 5):\n",
    "    print(i)"
   ]
  },
  {
   "cell_type": "code",
   "execution_count": 146,
   "id": "229f0922",
   "metadata": {},
   "outputs": [],
   "source": [
    "del l"
   ]
  },
  {
   "cell_type": "code",
   "execution_count": 151,
   "id": "ff34a60c",
   "metadata": {},
   "outputs": [],
   "source": [
    "for i in range(1,5):\n",
    "    pass"
   ]
  },
  {
   "cell_type": "code",
   "execution_count": 153,
   "id": "2cdb15e3",
   "metadata": {},
   "outputs": [],
   "source": [
    "if 4>5:\n",
    "    pass"
   ]
  },
  {
   "cell_type": "code",
   "execution_count": 3,
   "id": "40fc7903",
   "metadata": {},
   "outputs": [
    {
     "name": "stdout",
     "output_type": "stream",
     "text": [
      "*****\n",
      "****\n",
      "***\n",
      "**\n",
      "*\n"
     ]
    }
   ],
   "source": [
    "n=5\n",
    "for i in range(n, 0, -1):\n",
    "    print('*'*i)"
   ]
  },
  {
   "cell_type": "code",
   "execution_count": 39,
   "id": "12603065",
   "metadata": {},
   "outputs": [
    {
     "name": "stdout",
     "output_type": "stream",
     "text": [
      "1 \n",
      "2 3 \n",
      "4 5 6 \n",
      "7 8 9 10 \n",
      "11 12 13 14 15 \n"
     ]
    }
   ],
   "source": [
    "num=0\n",
    "for i in range(1, n+1):\n",
    "    for j in range(0, i):\n",
    "        num+=1\n",
    "        print(num, end=\" \")\n",
    "    print()"
   ]
  },
  {
   "cell_type": "code",
   "execution_count": 45,
   "id": "6cb96d9b",
   "metadata": {},
   "outputs": [
    {
     "name": "stdout",
     "output_type": "stream",
     "text": [
      "0 1 2 3 4 \n",
      "0 1 2 3 \n",
      "0 1 2 \n",
      "0 1 \n",
      "0 \n"
     ]
    }
   ],
   "source": [
    "num=0\n",
    "for i in range(n, 0, -1):\n",
    "    for j in range(0, i):\n",
    "        print(j, end=' ')\n",
    "    print()"
   ]
  },
  {
   "cell_type": "code",
   "execution_count": 59,
   "id": "09325207",
   "metadata": {},
   "outputs": [
    {
     "name": "stdout",
     "output_type": "stream",
     "text": [
      "*\n",
      "**\n",
      "***\n",
      "****\n",
      "*****\n",
      "\n",
      "*****\n",
      "****\n",
      "***\n",
      "**\n",
      "*\n"
     ]
    }
   ],
   "source": [
    "n=5\n",
    "for i in range(1, n+1):\n",
    "    print('*'*i)\n",
    "print()\n",
    "\n",
    "for i in range(n,0, -1):\n",
    "    print('*'*i)\n"
   ]
  },
  {
   "cell_type": "code",
   "execution_count": 68,
   "id": "e6512192",
   "metadata": {},
   "outputs": [
    {
     "name": "stdout",
     "output_type": "stream",
     "text": [
      "* * * * * \n",
      "* * * * * \n",
      "* * * * * \n",
      "* * * * * \n",
      "* * * * * \n"
     ]
    }
   ],
   "source": [
    "row=5\n",
    "for i in range(1,row+1):\n",
    "    for j in range(1, row+1):\n",
    "        print('*', end=\" \")\n",
    "    print()\n",
    "    "
   ]
  },
  {
   "cell_type": "code",
   "execution_count": 81,
   "id": "20404fd4",
   "metadata": {},
   "outputs": [
    {
     "name": "stdout",
     "output_type": "stream",
     "text": [
      "* \n",
      "* * \n",
      "* * * \n",
      "* * * * \n",
      "* * * * * \n",
      "* * * * \n",
      "* * * \n",
      "* * \n",
      "* \n",
      "\n"
     ]
    }
   ],
   "source": [
    "n=5\n",
    "for i in range(1, n+1):\n",
    "    for j in range(1,i+1):\n",
    "        print('*', end=' ')\n",
    "    print()\n",
    "for i in range(n, 0, -1):\n",
    "    for j in range(1, i):\n",
    "        print('*', end=' ')\n",
    "    print()\n"
   ]
  },
  {
   "cell_type": "code",
   "execution_count": null,
   "id": "597639cc",
   "metadata": {},
   "outputs": [],
   "source": []
  }
 ],
 "metadata": {
  "kernelspec": {
   "display_name": "Python 3 (ipykernel)",
   "language": "python",
   "name": "python3"
  },
  "language_info": {
   "codemirror_mode": {
    "name": "ipython",
    "version": 3
   },
   "file_extension": ".py",
   "mimetype": "text/x-python",
   "name": "python",
   "nbconvert_exporter": "python",
   "pygments_lexer": "ipython3",
   "version": "3.11.4"
  }
 },
 "nbformat": 4,
 "nbformat_minor": 5
}
