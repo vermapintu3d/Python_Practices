{
 "cells": [
  {
   "cell_type": "markdown",
   "id": "18f8b058",
   "metadata": {},
   "source": [
    "# Data Structures\n",
    "  > List\n",
    "  > Tuple\n",
    "  > Set\n",
    "  > String\n",
    "  > Dictionary"
   ]
  },
  {
   "cell_type": "code",
   "execution_count": 1,
   "id": "4c5713ea",
   "metadata": {},
   "outputs": [],
   "source": [
    "# String \n",
    " #> sequence of unicode\n",
    " #> anything inside the quates \",\"\", \"\"\"\"\"\", ''''''"
   ]
  },
  {
   "cell_type": "code",
   "execution_count": 2,
   "id": "75939ba5",
   "metadata": {},
   "outputs": [],
   "source": [
    "k = \"python is fun\""
   ]
  },
  {
   "cell_type": "code",
   "execution_count": 3,
   "id": "ca2e8656",
   "metadata": {},
   "outputs": [
    {
     "data": {
      "text/plain": [
       "str"
      ]
     },
     "execution_count": 3,
     "metadata": {},
     "output_type": "execute_result"
    }
   ],
   "source": [
    "type(k)"
   ]
  },
  {
   "cell_type": "code",
   "execution_count": 4,
   "id": "7b7d866e",
   "metadata": {},
   "outputs": [],
   "source": [
    "b = 'data science'"
   ]
  },
  {
   "cell_type": "code",
   "execution_count": 5,
   "id": "1d3dd3b9",
   "metadata": {},
   "outputs": [
    {
     "data": {
      "text/plain": [
       "str"
      ]
     },
     "execution_count": 5,
     "metadata": {},
     "output_type": "execute_result"
    }
   ],
   "source": [
    "type(b)"
   ]
  },
  {
   "cell_type": "code",
   "execution_count": 6,
   "id": "8efb51d0",
   "metadata": {},
   "outputs": [],
   "source": [
    "f = \"\"\"Hello World!\"\"\""
   ]
  },
  {
   "cell_type": "code",
   "execution_count": 7,
   "id": "3f78d94c",
   "metadata": {},
   "outputs": [
    {
     "data": {
      "text/plain": [
       "'Hello World!'"
      ]
     },
     "execution_count": 7,
     "metadata": {},
     "output_type": "execute_result"
    }
   ],
   "source": [
    "f"
   ]
  },
  {
   "cell_type": "code",
   "execution_count": 8,
   "id": "b379ffd1",
   "metadata": {},
   "outputs": [
    {
     "data": {
      "text/plain": [
       "str"
      ]
     },
     "execution_count": 8,
     "metadata": {},
     "output_type": "execute_result"
    }
   ],
   "source": [
    "type(f)"
   ]
  },
  {
   "cell_type": "code",
   "execution_count": 9,
   "id": "8687d2b8",
   "metadata": {},
   "outputs": [],
   "source": [
    "my_str = \"Welcome to the python programming course\""
   ]
  },
  {
   "cell_type": "code",
   "execution_count": 10,
   "id": "5210aba0",
   "metadata": {},
   "outputs": [
    {
     "data": {
      "text/plain": [
       "str"
      ]
     },
     "execution_count": 10,
     "metadata": {},
     "output_type": "execute_result"
    }
   ],
   "source": [
    "type(my_str)"
   ]
  },
  {
   "cell_type": "code",
   "execution_count": 11,
   "id": "14de8ad8",
   "metadata": {},
   "outputs": [
    {
     "data": {
      "text/plain": [
       "'Welcome to the python programming course'"
      ]
     },
     "execution_count": 11,
     "metadata": {},
     "output_type": "execute_result"
    }
   ],
   "source": [
    "my_str"
   ]
  },
  {
   "cell_type": "code",
   "execution_count": 12,
   "id": "a4f851a9",
   "metadata": {},
   "outputs": [
    {
     "data": {
      "text/plain": [
       "'W'"
      ]
     },
     "execution_count": 12,
     "metadata": {},
     "output_type": "execute_result"
    }
   ],
   "source": [
    "my_str[0]"
   ]
  },
  {
   "cell_type": "code",
   "execution_count": 13,
   "id": "b28aa004",
   "metadata": {},
   "outputs": [
    {
     "data": {
      "text/plain": [
       "'e'"
      ]
     },
     "execution_count": 13,
     "metadata": {},
     "output_type": "execute_result"
    }
   ],
   "source": [
    "my_str[1]"
   ]
  },
  {
   "cell_type": "code",
   "execution_count": 14,
   "id": "34c3591f",
   "metadata": {},
   "outputs": [
    {
     "data": {
      "text/plain": [
       "40"
      ]
     },
     "execution_count": 14,
     "metadata": {},
     "output_type": "execute_result"
    }
   ],
   "source": [
    "len(my_str)"
   ]
  },
  {
   "cell_type": "code",
   "execution_count": 15,
   "id": "11f2741a",
   "metadata": {},
   "outputs": [
    {
     "data": {
      "text/plain": [
       "'Welcome to the python programming course'"
      ]
     },
     "execution_count": 15,
     "metadata": {},
     "output_type": "execute_result"
    }
   ],
   "source": [
    "my_str[0:]"
   ]
  },
  {
   "cell_type": "code",
   "execution_count": 16,
   "id": "c982888b",
   "metadata": {},
   "outputs": [
    {
     "data": {
      "text/plain": [
       "'Welcome to'"
      ]
     },
     "execution_count": 16,
     "metadata": {},
     "output_type": "execute_result"
    }
   ],
   "source": [
    "my_str[0:10]"
   ]
  },
  {
   "cell_type": "code",
   "execution_count": 17,
   "id": "867c8f7f",
   "metadata": {},
   "outputs": [
    {
     "data": {
      "text/plain": [
       "'e'"
      ]
     },
     "execution_count": 17,
     "metadata": {},
     "output_type": "execute_result"
    }
   ],
   "source": [
    "my_str[-1]"
   ]
  },
  {
   "cell_type": "code",
   "execution_count": 18,
   "id": "1de24218",
   "metadata": {},
   "outputs": [
    {
     "data": {
      "text/plain": [
       "'cour'"
      ]
     },
     "execution_count": 18,
     "metadata": {},
     "output_type": "execute_result"
    }
   ],
   "source": [
    "my_str[-6:-2]"
   ]
  },
  {
   "cell_type": "code",
   "execution_count": 19,
   "id": "42bfb76e",
   "metadata": {},
   "outputs": [
    {
     "data": {
      "text/plain": [
       "[2, 4, 6, 8, 10, 12, 14, 16, 18, 20]"
      ]
     },
     "execution_count": 19,
     "metadata": {},
     "output_type": "execute_result"
    }
   ],
   "source": [
    "list(range(2, 21, 2))"
   ]
  },
  {
   "cell_type": "code",
   "execution_count": 20,
   "id": "4378dc6c",
   "metadata": {},
   "outputs": [
    {
     "data": {
      "text/plain": [
       "' programming course'"
      ]
     },
     "execution_count": 20,
     "metadata": {},
     "output_type": "execute_result"
    }
   ],
   "source": [
    "my_str[-19:]"
   ]
  },
  {
   "cell_type": "code",
   "execution_count": 21,
   "id": "03388433",
   "metadata": {},
   "outputs": [
    {
     "data": {
      "text/plain": [
       "'Welcome to the python programming course'"
      ]
     },
     "execution_count": 21,
     "metadata": {},
     "output_type": "execute_result"
    }
   ],
   "source": [
    "my_str[:41]"
   ]
  },
  {
   "cell_type": "code",
   "execution_count": 22,
   "id": "f27bf0d6",
   "metadata": {},
   "outputs": [],
   "source": [
    "#Methods"
   ]
  },
  {
   "cell_type": "code",
   "execution_count": 23,
   "id": "3187de75",
   "metadata": {},
   "outputs": [
    {
     "data": {
      "text/plain": [
       "'Welcome to the python programming course'"
      ]
     },
     "execution_count": 23,
     "metadata": {},
     "output_type": "execute_result"
    }
   ],
   "source": [
    "my_str"
   ]
  },
  {
   "cell_type": "code",
   "execution_count": 24,
   "id": "b7b1a8a0",
   "metadata": {},
   "outputs": [
    {
     "data": {
      "text/plain": [
       "'WELCOME TO THE PYTHON PROGRAMMING COURSE'"
      ]
     },
     "execution_count": 24,
     "metadata": {},
     "output_type": "execute_result"
    }
   ],
   "source": [
    "my_str.upper()"
   ]
  },
  {
   "cell_type": "code",
   "execution_count": 25,
   "id": "75e8bfc1",
   "metadata": {},
   "outputs": [
    {
     "data": {
      "text/plain": [
       "'welcome to the python programming course'"
      ]
     },
     "execution_count": 25,
     "metadata": {},
     "output_type": "execute_result"
    }
   ],
   "source": [
    "my_str.lower()"
   ]
  },
  {
   "cell_type": "code",
   "execution_count": 26,
   "id": "0b9b787a",
   "metadata": {},
   "outputs": [
    {
     "data": {
      "text/plain": [
       "'Welcome To The Python Programming Course'"
      ]
     },
     "execution_count": 26,
     "metadata": {},
     "output_type": "execute_result"
    }
   ],
   "source": [
    "my_str.title()"
   ]
  },
  {
   "cell_type": "code",
   "execution_count": 27,
   "id": "89793cd7",
   "metadata": {},
   "outputs": [
    {
     "data": {
      "text/plain": [
       "'Welcome to the python programming course'"
      ]
     },
     "execution_count": 27,
     "metadata": {},
     "output_type": "execute_result"
    }
   ],
   "source": [
    "my_str.capitalize()"
   ]
  },
  {
   "cell_type": "code",
   "execution_count": 28,
   "id": "5c754830",
   "metadata": {},
   "outputs": [
    {
     "data": {
      "text/plain": [
       "'Welcome to the python programming course'"
      ]
     },
     "execution_count": 28,
     "metadata": {},
     "output_type": "execute_result"
    }
   ],
   "source": [
    "my_str"
   ]
  },
  {
   "cell_type": "code",
   "execution_count": 29,
   "id": "5da625ec",
   "metadata": {},
   "outputs": [
    {
     "data": {
      "text/plain": [
       "2"
      ]
     },
     "execution_count": 29,
     "metadata": {},
     "output_type": "execute_result"
    }
   ],
   "source": [
    "my_str.count(\"n\")"
   ]
  },
  {
   "cell_type": "code",
   "execution_count": 30,
   "id": "9d931129",
   "metadata": {},
   "outputs": [
    {
     "data": {
      "text/plain": [
       "'Welcome to the python programming course'"
      ]
     },
     "execution_count": 30,
     "metadata": {},
     "output_type": "execute_result"
    }
   ],
   "source": [
    "my_str"
   ]
  },
  {
   "cell_type": "code",
   "execution_count": 31,
   "id": "4bf16d0a",
   "metadata": {},
   "outputs": [
    {
     "data": {
      "text/plain": [
       "['Welc', 'me t', ' the pyth', 'n pr', 'gramming c', 'urse']"
      ]
     },
     "execution_count": 31,
     "metadata": {},
     "output_type": "execute_result"
    }
   ],
   "source": [
    "my_str.split(\"o\")"
   ]
  },
  {
   "cell_type": "code",
   "execution_count": 32,
   "id": "2951f705",
   "metadata": {},
   "outputs": [
    {
     "data": {
      "text/plain": [
       "['Welcome', 'to', 'the', 'python', 'programming', 'course']"
      ]
     },
     "execution_count": 32,
     "metadata": {},
     "output_type": "execute_result"
    }
   ],
   "source": [
    "my_str.split()"
   ]
  },
  {
   "cell_type": "code",
   "execution_count": 33,
   "id": "3f3acf89",
   "metadata": {},
   "outputs": [],
   "source": [
    "my_str=\"\".join(my_str)"
   ]
  },
  {
   "cell_type": "code",
   "execution_count": 34,
   "id": "d9db7d69",
   "metadata": {},
   "outputs": [
    {
     "data": {
      "text/plain": [
       "'Welcome to the python programming course'"
      ]
     },
     "execution_count": 34,
     "metadata": {},
     "output_type": "execute_result"
    }
   ],
   "source": [
    "my_str"
   ]
  },
  {
   "cell_type": "code",
   "execution_count": 35,
   "id": "bcd08ccc",
   "metadata": {},
   "outputs": [
    {
     "data": {
      "text/plain": [
       "'Welcome to the python programming class'"
      ]
     },
     "execution_count": 35,
     "metadata": {},
     "output_type": "execute_result"
    }
   ],
   "source": [
    "my_str.replace(\"course\", \"class\")"
   ]
  },
  {
   "cell_type": "code",
   "execution_count": 36,
   "id": "b43288df",
   "metadata": {},
   "outputs": [
    {
     "name": "stdout",
     "output_type": "stream",
     "text": [
      "Please enter your name:     pintu   \n"
     ]
    }
   ],
   "source": [
    "name = input(\"Please enter your name: \")"
   ]
  },
  {
   "cell_type": "code",
   "execution_count": 37,
   "id": "96922e77",
   "metadata": {},
   "outputs": [
    {
     "data": {
      "text/plain": [
       "'    pintu   '"
      ]
     },
     "execution_count": 37,
     "metadata": {},
     "output_type": "execute_result"
    }
   ],
   "source": [
    "name"
   ]
  },
  {
   "cell_type": "code",
   "execution_count": 38,
   "id": "515cc087",
   "metadata": {},
   "outputs": [
    {
     "data": {
      "text/plain": [
       "'pintu   '"
      ]
     },
     "execution_count": 38,
     "metadata": {},
     "output_type": "execute_result"
    }
   ],
   "source": [
    "name.lstrip()"
   ]
  },
  {
   "cell_type": "code",
   "execution_count": 39,
   "id": "3dce47f3",
   "metadata": {},
   "outputs": [
    {
     "data": {
      "text/plain": [
       "12"
      ]
     },
     "execution_count": 39,
     "metadata": {},
     "output_type": "execute_result"
    }
   ],
   "source": [
    "len(name)"
   ]
  },
  {
   "cell_type": "code",
   "execution_count": 40,
   "id": "132979cb",
   "metadata": {},
   "outputs": [
    {
     "data": {
      "text/plain": [
       "'    pintu   '"
      ]
     },
     "execution_count": 40,
     "metadata": {},
     "output_type": "execute_result"
    }
   ],
   "source": [
    "name"
   ]
  },
  {
   "cell_type": "code",
   "execution_count": 41,
   "id": "e73f990c",
   "metadata": {},
   "outputs": [
    {
     "data": {
      "text/plain": [
       "'    pintu'"
      ]
     },
     "execution_count": 41,
     "metadata": {},
     "output_type": "execute_result"
    }
   ],
   "source": [
    "name.rstrip()"
   ]
  },
  {
   "cell_type": "code",
   "execution_count": 42,
   "id": "e194a7e6",
   "metadata": {},
   "outputs": [],
   "source": [
    "name=name.strip()"
   ]
  },
  {
   "cell_type": "code",
   "execution_count": 43,
   "id": "2ea5907e",
   "metadata": {},
   "outputs": [
    {
     "data": {
      "text/plain": [
       "'pintu'"
      ]
     },
     "execution_count": 43,
     "metadata": {},
     "output_type": "execute_result"
    }
   ],
   "source": [
    "name"
   ]
  },
  {
   "cell_type": "code",
   "execution_count": 44,
   "id": "31ab2e35",
   "metadata": {},
   "outputs": [
    {
     "data": {
      "text/plain": [
       "17"
      ]
     },
     "execution_count": 44,
     "metadata": {},
     "output_type": "execute_result"
    }
   ],
   "source": [
    "5+12"
   ]
  },
  {
   "cell_type": "code",
   "execution_count": 45,
   "id": "a806760b",
   "metadata": {},
   "outputs": [
    {
     "data": {
      "text/plain": [
       "'hello5'"
      ]
     },
     "execution_count": 45,
     "metadata": {},
     "output_type": "execute_result"
    }
   ],
   "source": [
    "\"hello\"+str(5)"
   ]
  },
  {
   "cell_type": "code",
   "execution_count": 46,
   "id": "75943b39",
   "metadata": {},
   "outputs": [
    {
     "data": {
      "text/plain": [
       "'pintupintupintupintupintu'"
      ]
     },
     "execution_count": 46,
     "metadata": {},
     "output_type": "execute_result"
    }
   ],
   "source": [
    "\"pintu\"*5"
   ]
  },
  {
   "cell_type": "code",
   "execution_count": 47,
   "id": "0f13f965",
   "metadata": {},
   "outputs": [],
   "source": [
    "#H.W Q.1. Write a programme to calculate number of vowels in a given string."
   ]
  },
  {
   "cell_type": "code",
   "execution_count": 48,
   "id": "0fa90bbe",
   "metadata": {},
   "outputs": [
    {
     "data": {
      "text/plain": [
       "'Welcome to the python programming course'"
      ]
     },
     "execution_count": 48,
     "metadata": {},
     "output_type": "execute_result"
    }
   ],
   "source": [
    "my_str"
   ]
  },
  {
   "cell_type": "code",
   "execution_count": 49,
   "id": "3955bfa2",
   "metadata": {},
   "outputs": [
    {
     "name": "stdout",
     "output_type": "stream",
     "text": [
      "A:1 E:4 I:1 O:5 U:1\n",
      "The total numbers of vowels in a given string = 12\n"
     ]
    }
   ],
   "source": [
    "my_str = \"Welcome to the python programming course\"\n",
    "\n",
    "a = my_str.count(\"a\")\n",
    "b = my_str.count(\"e\")\n",
    "c = my_str.count(\"i\")\n",
    "d = my_str.count(\"o\")\n",
    "e = my_str.count(\"u\")\n",
    "\n",
    "print(\"A:\"+str(a),\"E:\"+str(b), \"I:\"+str(c), \"O:\"+str(d), \"U:\"+str(e))\n",
    "\n",
    "print(\"The total numbers of vowels in a given string = \"+str(a+b+c+d+e))"
   ]
  },
  {
   "cell_type": "code",
   "execution_count": 50,
   "id": "8ee6a477",
   "metadata": {},
   "outputs": [],
   "source": [
    "# Q. 2.Write a programme to check the given string is palindrome or not."
   ]
  },
  {
   "cell_type": "code",
   "execution_count": null,
   "id": "2e3d48f1",
   "metadata": {},
   "outputs": [],
   "source": [
    "user = input(\"Please enter the any string:\")\n",
    "print(\"Yes\") if (user==user[::-1]) else print(\"No\")"
   ]
  },
  {
   "cell_type": "code",
   "execution_count": null,
   "id": "42c95996",
   "metadata": {},
   "outputs": [],
   "source": []
  }
 ],
 "metadata": {
  "kernelspec": {
   "display_name": "Python 3 (ipykernel)",
   "language": "python",
   "name": "python3"
  },
  "language_info": {
   "codemirror_mode": {
    "name": "ipython",
    "version": 3
   },
   "file_extension": ".py",
   "mimetype": "text/x-python",
   "name": "python",
   "nbconvert_exporter": "python",
   "pygments_lexer": "ipython3",
   "version": "3.11.4"
  }
 },
 "nbformat": 4,
 "nbformat_minor": 5
}
