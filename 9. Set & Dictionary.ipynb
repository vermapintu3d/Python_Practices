{
 "cells": [
  {
   "cell_type": "markdown",
   "id": "a73a4d61",
   "metadata": {},
   "source": [
    "# Set "
   ]
  },
  {
   "cell_type": "code",
   "execution_count": null,
   "id": "a4686c11",
   "metadata": {},
   "outputs": [],
   "source": [
    "Set:\n",
    "it contains unique elements\n",
    "Does not follow sequnece\n",
    "non-indaxable\n",
    "unordered\n",
    "mutable"
   ]
  },
  {
   "cell_type": "code",
   "execution_count": 1,
   "id": "0e60dd3d",
   "metadata": {},
   "outputs": [],
   "source": [
    "h = {}"
   ]
  },
  {
   "cell_type": "code",
   "execution_count": 2,
   "id": "ded113cd",
   "metadata": {},
   "outputs": [
    {
     "data": {
      "text/plain": [
       "dict"
      ]
     },
     "execution_count": 2,
     "metadata": {},
     "output_type": "execute_result"
    }
   ],
   "source": [
    "type(h)"
   ]
  },
  {
   "cell_type": "code",
   "execution_count": 3,
   "id": "6fa6d079",
   "metadata": {},
   "outputs": [],
   "source": [
    "k={5}"
   ]
  },
  {
   "cell_type": "code",
   "execution_count": 4,
   "id": "d546b9d6",
   "metadata": {},
   "outputs": [
    {
     "data": {
      "text/plain": [
       "set"
      ]
     },
     "execution_count": 4,
     "metadata": {},
     "output_type": "execute_result"
    }
   ],
   "source": [
    "type(k)"
   ]
  },
  {
   "cell_type": "code",
   "execution_count": 5,
   "id": "8ed692f9",
   "metadata": {},
   "outputs": [],
   "source": [
    "n = set()"
   ]
  },
  {
   "cell_type": "code",
   "execution_count": 6,
   "id": "87e34e35",
   "metadata": {},
   "outputs": [
    {
     "data": {
      "text/plain": [
       "set"
      ]
     },
     "execution_count": 6,
     "metadata": {},
     "output_type": "execute_result"
    }
   ],
   "source": [
    "type(k)"
   ]
  },
  {
   "cell_type": "code",
   "execution_count": 7,
   "id": "f7691c85",
   "metadata": {},
   "outputs": [],
   "source": [
    "l={1,2,3,4,5,5,4,3,2,1,1,25,7,8,9,6,4,5,6}"
   ]
  },
  {
   "cell_type": "code",
   "execution_count": 8,
   "id": "07fe996d",
   "metadata": {},
   "outputs": [
    {
     "data": {
      "text/plain": [
       "10"
      ]
     },
     "execution_count": 8,
     "metadata": {},
     "output_type": "execute_result"
    }
   ],
   "source": [
    "len(l)"
   ]
  },
  {
   "cell_type": "code",
   "execution_count": 9,
   "id": "b3119415",
   "metadata": {},
   "outputs": [
    {
     "data": {
      "text/plain": [
       "{1, 2, 3, 4, 5, 6, 7, 8, 9, 25}"
      ]
     },
     "execution_count": 9,
     "metadata": {},
     "output_type": "execute_result"
    }
   ],
   "source": [
    "l"
   ]
  },
  {
   "cell_type": "code",
   "execution_count": 10,
   "id": "d9de05e4",
   "metadata": {},
   "outputs": [],
   "source": [
    "l.add(50)"
   ]
  },
  {
   "cell_type": "code",
   "execution_count": 11,
   "id": "d9bea8cf",
   "metadata": {},
   "outputs": [
    {
     "data": {
      "text/plain": [
       "{1, 2, 3, 4, 5, 6, 7, 8, 9, 25, 50}"
      ]
     },
     "execution_count": 11,
     "metadata": {},
     "output_type": "execute_result"
    }
   ],
   "source": [
    "l"
   ]
  },
  {
   "cell_type": "code",
   "execution_count": 12,
   "id": "0c38c1da",
   "metadata": {},
   "outputs": [],
   "source": [
    "#This has no effect if the element is already present.\n",
    "l.add(50)\n",
    "l.add(50)\n",
    "l.add(50)"
   ]
  },
  {
   "cell_type": "code",
   "execution_count": 13,
   "id": "5becbca9",
   "metadata": {},
   "outputs": [
    {
     "data": {
      "text/plain": [
       "{1, 2, 3, 4, 5, 6, 7, 8, 9, 25, 50}"
      ]
     },
     "execution_count": 13,
     "metadata": {},
     "output_type": "execute_result"
    }
   ],
   "source": [
    "l"
   ]
  },
  {
   "cell_type": "code",
   "execution_count": 14,
   "id": "a022c2f7",
   "metadata": {},
   "outputs": [],
   "source": [
    "l.remove(25)"
   ]
  },
  {
   "cell_type": "code",
   "execution_count": 15,
   "id": "d50443c0",
   "metadata": {},
   "outputs": [
    {
     "data": {
      "text/plain": [
       "{1, 2, 3, 4, 5, 6, 7, 8, 9, 50}"
      ]
     },
     "execution_count": 15,
     "metadata": {},
     "output_type": "execute_result"
    }
   ],
   "source": [
    "l"
   ]
  },
  {
   "cell_type": "code",
   "execution_count": 16,
   "id": "6de36b61",
   "metadata": {},
   "outputs": [
    {
     "ename": "KeyError",
     "evalue": "100",
     "output_type": "error",
     "traceback": [
      "\u001b[1;31m---------------------------------------------------------------------------\u001b[0m",
      "\u001b[1;31mKeyError\u001b[0m                                  Traceback (most recent call last)",
      "Cell \u001b[1;32mIn[16], line 1\u001b[0m\n\u001b[1;32m----> 1\u001b[0m l\u001b[38;5;241m.\u001b[39mremove(\u001b[38;5;241m100\u001b[39m)\n",
      "\u001b[1;31mKeyError\u001b[0m: 100"
     ]
    }
   ],
   "source": [
    "l.remove(100)"
   ]
  },
  {
   "cell_type": "code",
   "execution_count": 17,
   "id": "fb01d659",
   "metadata": {},
   "outputs": [
    {
     "data": {
      "text/plain": [
       "{1, 2, 3, 4, 5, 6, 7, 8, 9, 50}"
      ]
     },
     "execution_count": 17,
     "metadata": {},
     "output_type": "execute_result"
    }
   ],
   "source": [
    "l"
   ]
  },
  {
   "cell_type": "code",
   "execution_count": 18,
   "id": "fbc4317e",
   "metadata": {},
   "outputs": [],
   "source": [
    "l.discard(100)"
   ]
  },
  {
   "cell_type": "code",
   "execution_count": 19,
   "id": "c52f744d",
   "metadata": {},
   "outputs": [
    {
     "data": {
      "text/plain": [
       "{1, 2, 3, 4, 5, 6, 7, 8, 9, 50}"
      ]
     },
     "execution_count": 19,
     "metadata": {},
     "output_type": "execute_result"
    }
   ],
   "source": [
    "l"
   ]
  },
  {
   "cell_type": "code",
   "execution_count": 20,
   "id": "ca6f8893",
   "metadata": {},
   "outputs": [
    {
     "ename": "TypeError",
     "evalue": "'set' object is not subscriptable",
     "output_type": "error",
     "traceback": [
      "\u001b[1;31m---------------------------------------------------------------------------\u001b[0m",
      "\u001b[1;31mTypeError\u001b[0m                                 Traceback (most recent call last)",
      "Cell \u001b[1;32mIn[20], line 1\u001b[0m\n\u001b[1;32m----> 1\u001b[0m l[\u001b[38;5;241m1\u001b[39m]\n",
      "\u001b[1;31mTypeError\u001b[0m: 'set' object is not subscriptable"
     ]
    }
   ],
   "source": [
    "l[1]"
   ]
  },
  {
   "cell_type": "code",
   "execution_count": 21,
   "id": "5feae99e",
   "metadata": {},
   "outputs": [],
   "source": [
    "l.update([50, 60, 20, 10, 1, 5 ,4 ,3])"
   ]
  },
  {
   "cell_type": "code",
   "execution_count": 22,
   "id": "2bbe747f",
   "metadata": {},
   "outputs": [
    {
     "data": {
      "text/plain": [
       "{1, 2, 3, 4, 5, 6, 7, 8, 9, 10, 20, 50, 60}"
      ]
     },
     "execution_count": 22,
     "metadata": {},
     "output_type": "execute_result"
    }
   ],
   "source": [
    "l"
   ]
  },
  {
   "cell_type": "markdown",
   "id": "312bb69e",
   "metadata": {},
   "source": [
    "# set Operations"
   ]
  },
  {
   "cell_type": "code",
   "execution_count": 24,
   "id": "c02d5a74",
   "metadata": {},
   "outputs": [],
   "source": [
    "s1={1,2,3,8,7,6,9}"
   ]
  },
  {
   "cell_type": "code",
   "execution_count": 25,
   "id": "47fe90dc",
   "metadata": {},
   "outputs": [],
   "source": [
    "s2={8,7,9,0,4,5,10,15}"
   ]
  },
  {
   "cell_type": "code",
   "execution_count": 26,
   "id": "54041856",
   "metadata": {},
   "outputs": [
    {
     "data": {
      "text/plain": [
       "{1, 2, 3, 6, 7, 8, 9}"
      ]
     },
     "execution_count": 26,
     "metadata": {},
     "output_type": "execute_result"
    }
   ],
   "source": [
    "s1"
   ]
  },
  {
   "cell_type": "code",
   "execution_count": 27,
   "id": "ac541c93",
   "metadata": {},
   "outputs": [
    {
     "data": {
      "text/plain": [
       "{0, 4, 5, 7, 8, 9, 10, 15}"
      ]
     },
     "execution_count": 27,
     "metadata": {},
     "output_type": "execute_result"
    }
   ],
   "source": [
    "s2"
   ]
  },
  {
   "cell_type": "code",
   "execution_count": 28,
   "id": "9d1e0d77",
   "metadata": {},
   "outputs": [
    {
     "data": {
      "text/plain": [
       "{0, 1, 2, 3, 4, 5, 6, 7, 8, 9, 10, 15}"
      ]
     },
     "execution_count": 28,
     "metadata": {},
     "output_type": "execute_result"
    }
   ],
   "source": [
    "s1.union(s2) #symbol of union is | "
   ]
  },
  {
   "cell_type": "code",
   "execution_count": 29,
   "id": "dbbd0ad2",
   "metadata": {},
   "outputs": [
    {
     "data": {
      "text/plain": [
       "{0, 1, 2, 3, 4, 5, 6, 7, 8, 9, 10, 15}"
      ]
     },
     "execution_count": 29,
     "metadata": {},
     "output_type": "execute_result"
    }
   ],
   "source": [
    "s1|s2"
   ]
  },
  {
   "cell_type": "code",
   "execution_count": 33,
   "id": "6b5d7c88",
   "metadata": {},
   "outputs": [
    {
     "data": {
      "text/plain": [
       "{7, 8, 9}"
      ]
     },
     "execution_count": 33,
     "metadata": {},
     "output_type": "execute_result"
    }
   ],
   "source": [
    "s1.intersection(s2)"
   ]
  },
  {
   "cell_type": "code",
   "execution_count": 34,
   "id": "03b1f5c1",
   "metadata": {},
   "outputs": [
    {
     "data": {
      "text/plain": [
       "{7, 8, 9}"
      ]
     },
     "execution_count": 34,
     "metadata": {},
     "output_type": "execute_result"
    }
   ],
   "source": [
    "s1&s2 # symbol of intersection is & "
   ]
  },
  {
   "cell_type": "code",
   "execution_count": 35,
   "id": "2a4fe330",
   "metadata": {},
   "outputs": [
    {
     "data": {
      "text/plain": [
       "{0, 1, 2, 3, 4, 5, 6, 10, 15}"
      ]
     },
     "execution_count": 35,
     "metadata": {},
     "output_type": "execute_result"
    }
   ],
   "source": [
    "(s1|s2)-(s1&s2)"
   ]
  },
  {
   "cell_type": "markdown",
   "id": "a670e732",
   "metadata": {},
   "source": [
    "# membership Operator"
   ]
  },
  {
   "cell_type": "code",
   "execution_count": 36,
   "id": "f202c6a9",
   "metadata": {},
   "outputs": [
    {
     "data": {
      "text/plain": [
       "{1, 2, 3, 6, 7, 8, 9}"
      ]
     },
     "execution_count": 36,
     "metadata": {},
     "output_type": "execute_result"
    }
   ],
   "source": [
    "s1"
   ]
  },
  {
   "cell_type": "code",
   "execution_count": 37,
   "id": "9cd6258c",
   "metadata": {},
   "outputs": [
    {
     "data": {
      "text/plain": [
       "True"
      ]
     },
     "execution_count": 37,
     "metadata": {},
     "output_type": "execute_result"
    }
   ],
   "source": [
    "6 in s1"
   ]
  },
  {
   "cell_type": "code",
   "execution_count": 38,
   "id": "887137a9",
   "metadata": {},
   "outputs": [
    {
     "data": {
      "text/plain": [
       "False"
      ]
     },
     "execution_count": 38,
     "metadata": {},
     "output_type": "execute_result"
    }
   ],
   "source": [
    "6 not in s1"
   ]
  },
  {
   "cell_type": "code",
   "execution_count": 39,
   "id": "c035caaa",
   "metadata": {},
   "outputs": [],
   "source": [
    "g=[40,1,2,5,40,80,80,90,40,20,5,4,7,8,5,4,7,8]"
   ]
  },
  {
   "cell_type": "code",
   "execution_count": 40,
   "id": "f88b3ee4",
   "metadata": {},
   "outputs": [
    {
     "data": {
      "text/plain": [
       "[40, 1, 2, 5, 40, 80, 80, 90, 40, 20, 5, 4, 7, 8, 5, 4, 7, 8]"
      ]
     },
     "execution_count": 40,
     "metadata": {},
     "output_type": "execute_result"
    }
   ],
   "source": [
    "g"
   ]
  },
  {
   "cell_type": "code",
   "execution_count": 41,
   "id": "7459a272",
   "metadata": {},
   "outputs": [],
   "source": [
    "d=set(g)"
   ]
  },
  {
   "cell_type": "code",
   "execution_count": 42,
   "id": "9cf7d41f",
   "metadata": {},
   "outputs": [
    {
     "data": {
      "text/plain": [
       "{1, 2, 4, 5, 7, 8, 20, 40, 80, 90}"
      ]
     },
     "execution_count": 42,
     "metadata": {},
     "output_type": "execute_result"
    }
   ],
   "source": [
    "d"
   ]
  },
  {
   "cell_type": "code",
   "execution_count": 43,
   "id": "e5130a98",
   "metadata": {},
   "outputs": [],
   "source": [
    "g=list(d)"
   ]
  },
  {
   "cell_type": "code",
   "execution_count": 44,
   "id": "a722e2c5",
   "metadata": {},
   "outputs": [
    {
     "data": {
      "text/plain": [
       "[1, 2, 4, 5, 7, 40, 8, 80, 20, 90]"
      ]
     },
     "execution_count": 44,
     "metadata": {},
     "output_type": "execute_result"
    }
   ],
   "source": [
    "g"
   ]
  },
  {
   "cell_type": "markdown",
   "id": "c9e66bdf",
   "metadata": {},
   "source": [
    "# Dictionary:\n",
    "   > stores data in key value pair\n",
    "   > dictionaries are ordered\n",
    "   > elememnts are accessable with the help of key\n",
    "   > mutable"
   ]
  },
  {
   "cell_type": "code",
   "execution_count": 45,
   "id": "ce314469",
   "metadata": {},
   "outputs": [],
   "source": [
    "t={}"
   ]
  },
  {
   "cell_type": "code",
   "execution_count": 49,
   "id": "a29f17cc",
   "metadata": {},
   "outputs": [
    {
     "data": {
      "text/plain": [
       "dict"
      ]
     },
     "execution_count": 49,
     "metadata": {},
     "output_type": "execute_result"
    }
   ],
   "source": [
    "type(t)"
   ]
  },
  {
   "cell_type": "code",
   "execution_count": 50,
   "id": "bb1113df",
   "metadata": {},
   "outputs": [],
   "source": [
    "f=dict()"
   ]
  },
  {
   "cell_type": "code",
   "execution_count": 51,
   "id": "c49ffcbd",
   "metadata": {},
   "outputs": [
    {
     "data": {
      "text/plain": [
       "{}"
      ]
     },
     "execution_count": 51,
     "metadata": {},
     "output_type": "execute_result"
    }
   ],
   "source": [
    "f"
   ]
  },
  {
   "cell_type": "code",
   "execution_count": 52,
   "id": "9ab6338d",
   "metadata": {},
   "outputs": [
    {
     "data": {
      "text/plain": [
       "dict"
      ]
     },
     "execution_count": 52,
     "metadata": {},
     "output_type": "execute_result"
    }
   ],
   "source": [
    "type(t)"
   ]
  },
  {
   "cell_type": "code",
   "execution_count": 53,
   "id": "f682bea7",
   "metadata": {},
   "outputs": [],
   "source": [
    "h=[(1, 'abc'),(2, 'pqr'), (3, 'stv'), (4, 'bca')]"
   ]
  },
  {
   "cell_type": "code",
   "execution_count": 54,
   "id": "ec75352b",
   "metadata": {},
   "outputs": [
    {
     "data": {
      "text/plain": [
       "[(1, 'abc'), (2, 'pqr'), (3, 'stv'), (4, 'bca')]"
      ]
     },
     "execution_count": 54,
     "metadata": {},
     "output_type": "execute_result"
    }
   ],
   "source": [
    "h"
   ]
  },
  {
   "cell_type": "code",
   "execution_count": 55,
   "id": "d4ac9897",
   "metadata": {},
   "outputs": [
    {
     "data": {
      "text/plain": [
       "list"
      ]
     },
     "execution_count": 55,
     "metadata": {},
     "output_type": "execute_result"
    }
   ],
   "source": [
    "type(h)"
   ]
  },
  {
   "cell_type": "code",
   "execution_count": 57,
   "id": "7e286d0f",
   "metadata": {},
   "outputs": [],
   "source": [
    "j=dict(h)"
   ]
  },
  {
   "cell_type": "code",
   "execution_count": 58,
   "id": "b97722ee",
   "metadata": {},
   "outputs": [
    {
     "data": {
      "text/plain": [
       "dict"
      ]
     },
     "execution_count": 58,
     "metadata": {},
     "output_type": "execute_result"
    }
   ],
   "source": [
    "type(j)"
   ]
  },
  {
   "cell_type": "code",
   "execution_count": 59,
   "id": "afa2b514",
   "metadata": {},
   "outputs": [
    {
     "data": {
      "text/plain": [
       "{1: 'abc', 2: 'pqr', 3: 'stv', 4: 'bca'}"
      ]
     },
     "execution_count": 59,
     "metadata": {},
     "output_type": "execute_result"
    }
   ],
   "source": [
    "j"
   ]
  },
  {
   "cell_type": "code",
   "execution_count": 60,
   "id": "e65b5b5c",
   "metadata": {},
   "outputs": [],
   "source": [
    "user_info={\n",
    "    'name':'Rohit',\n",
    "    'age':24,\n",
    "    'nationalty':'Indian'\n",
    "}"
   ]
  },
  {
   "cell_type": "code",
   "execution_count": 61,
   "id": "b07c1163",
   "metadata": {},
   "outputs": [
    {
     "data": {
      "text/plain": [
       "dict"
      ]
     },
     "execution_count": 61,
     "metadata": {},
     "output_type": "execute_result"
    }
   ],
   "source": [
    "type(user_info)"
   ]
  },
  {
   "cell_type": "code",
   "execution_count": 62,
   "id": "36ac48f3",
   "metadata": {},
   "outputs": [],
   "source": [
    "# accessing"
   ]
  },
  {
   "cell_type": "code",
   "execution_count": 63,
   "id": "c50d66dd",
   "metadata": {},
   "outputs": [
    {
     "data": {
      "text/plain": [
       "'Rohit'"
      ]
     },
     "execution_count": 63,
     "metadata": {},
     "output_type": "execute_result"
    }
   ],
   "source": [
    "user_info['name']"
   ]
  },
  {
   "cell_type": "code",
   "execution_count": 64,
   "id": "c2ef2f67",
   "metadata": {},
   "outputs": [
    {
     "data": {
      "text/plain": [
       "24"
      ]
     },
     "execution_count": 64,
     "metadata": {},
     "output_type": "execute_result"
    }
   ],
   "source": [
    "user_info['age']"
   ]
  },
  {
   "cell_type": "code",
   "execution_count": 65,
   "id": "3aa15f4b",
   "metadata": {},
   "outputs": [
    {
     "ename": "KeyError",
     "evalue": "'hobby'",
     "output_type": "error",
     "traceback": [
      "\u001b[1;31m---------------------------------------------------------------------------\u001b[0m",
      "\u001b[1;31mKeyError\u001b[0m                                  Traceback (most recent call last)",
      "Cell \u001b[1;32mIn[65], line 1\u001b[0m\n\u001b[1;32m----> 1\u001b[0m user_info[\u001b[38;5;124m'\u001b[39m\u001b[38;5;124mhobby\u001b[39m\u001b[38;5;124m'\u001b[39m]\n",
      "\u001b[1;31mKeyError\u001b[0m: 'hobby'"
     ]
    }
   ],
   "source": [
    "user_info['hobby']"
   ]
  },
  {
   "cell_type": "code",
   "execution_count": 66,
   "id": "4f3e5ce5",
   "metadata": {},
   "outputs": [],
   "source": [
    "user_info.get('hobby')   # in order to skip the error"
   ]
  },
  {
   "cell_type": "code",
   "execution_count": 67,
   "id": "a2ccbd7e",
   "metadata": {},
   "outputs": [
    {
     "data": {
      "text/plain": [
       "24"
      ]
     },
     "execution_count": 67,
     "metadata": {},
     "output_type": "execute_result"
    }
   ],
   "source": [
    "user_info['age']"
   ]
  },
  {
   "cell_type": "code",
   "execution_count": 68,
   "id": "f295533d",
   "metadata": {},
   "outputs": [],
   "source": [
    "# add/ delete/ modify"
   ]
  },
  {
   "cell_type": "code",
   "execution_count": 69,
   "id": "855f0a34",
   "metadata": {},
   "outputs": [],
   "source": [
    "user_info['Hobby']=['coding', 'singing', 'dancing']"
   ]
  },
  {
   "cell_type": "code",
   "execution_count": 70,
   "id": "05b22d64",
   "metadata": {},
   "outputs": [
    {
     "data": {
      "text/plain": [
       "{'name': 'Rohit',\n",
       " 'age': 24,\n",
       " 'nationalty': 'Indian',\n",
       " 'Hobby': ['coding', 'singing', 'dancing']}"
      ]
     },
     "execution_count": 70,
     "metadata": {},
     "output_type": "execute_result"
    }
   ],
   "source": [
    "user_info"
   ]
  },
  {
   "cell_type": "code",
   "execution_count": 71,
   "id": "c7923248",
   "metadata": {},
   "outputs": [
    {
     "data": {
      "text/plain": [
       "['coding', 'singing', 'dancing']"
      ]
     },
     "execution_count": 71,
     "metadata": {},
     "output_type": "execute_result"
    }
   ],
   "source": [
    "user_info['Hobby']"
   ]
  },
  {
   "cell_type": "code",
   "execution_count": 72,
   "id": "77d2c1e3",
   "metadata": {},
   "outputs": [],
   "source": [
    "user_info['Hobby'][1]='walking'"
   ]
  },
  {
   "cell_type": "code",
   "execution_count": 73,
   "id": "bc9a4f44",
   "metadata": {},
   "outputs": [
    {
     "data": {
      "text/plain": [
       "{'name': 'Rohit',\n",
       " 'age': 24,\n",
       " 'nationalty': 'Indian',\n",
       " 'Hobby': ['coding', 'walking', 'dancing']}"
      ]
     },
     "execution_count": 73,
     "metadata": {},
     "output_type": "execute_result"
    }
   ],
   "source": [
    "user_info"
   ]
  },
  {
   "cell_type": "code",
   "execution_count": 74,
   "id": "00a576b2",
   "metadata": {},
   "outputs": [
    {
     "data": {
      "text/plain": [
       "'Rohit'"
      ]
     },
     "execution_count": 74,
     "metadata": {},
     "output_type": "execute_result"
    }
   ],
   "source": [
    "user_info.pop('name')"
   ]
  },
  {
   "cell_type": "code",
   "execution_count": 75,
   "id": "42b6b510",
   "metadata": {},
   "outputs": [
    {
     "data": {
      "text/plain": [
       "{'age': 24, 'nationalty': 'Indian', 'Hobby': ['coding', 'walking', 'dancing']}"
      ]
     },
     "execution_count": 75,
     "metadata": {},
     "output_type": "execute_result"
    }
   ],
   "source": [
    "user_info"
   ]
  },
  {
   "cell_type": "code",
   "execution_count": 76,
   "id": "c2e808c9",
   "metadata": {},
   "outputs": [],
   "source": [
    "del user_info['age']"
   ]
  },
  {
   "cell_type": "code",
   "execution_count": 77,
   "id": "70d4108b",
   "metadata": {},
   "outputs": [
    {
     "data": {
      "text/plain": [
       "{'nationalty': 'Indian', 'Hobby': ['coding', 'walking', 'dancing']}"
      ]
     },
     "execution_count": 77,
     "metadata": {},
     "output_type": "execute_result"
    }
   ],
   "source": [
    "user_info"
   ]
  },
  {
   "cell_type": "code",
   "execution_count": 81,
   "id": "cb272a84",
   "metadata": {},
   "outputs": [],
   "source": [
    "user_info['Education']='B.Tech'"
   ]
  },
  {
   "cell_type": "code",
   "execution_count": 82,
   "id": "5c742e05",
   "metadata": {},
   "outputs": [
    {
     "data": {
      "text/plain": [
       "{'nationalty': 'Indian',\n",
       " 'Hobby': ['coding', 'walking', 'dancing'],\n",
       " 'education': 'B.Tech',\n",
       " 'Education': 'B.Tech'}"
      ]
     },
     "execution_count": 82,
     "metadata": {},
     "output_type": "execute_result"
    }
   ],
   "source": [
    "user_info"
   ]
  },
  {
   "cell_type": "code",
   "execution_count": 85,
   "id": "d5aee5c6",
   "metadata": {},
   "outputs": [
    {
     "data": {
      "text/plain": [
       "'B.Tech'"
      ]
     },
     "execution_count": 85,
     "metadata": {},
     "output_type": "execute_result"
    }
   ],
   "source": [
    "user_info.pop('education')"
   ]
  },
  {
   "cell_type": "code",
   "execution_count": 86,
   "id": "a5f7d894",
   "metadata": {},
   "outputs": [
    {
     "data": {
      "text/plain": [
       "{'nationalty': 'Indian',\n",
       " 'Hobby': ['coding', 'walking', 'dancing'],\n",
       " 'Education': 'B.Tech'}"
      ]
     },
     "execution_count": 86,
     "metadata": {},
     "output_type": "execute_result"
    }
   ],
   "source": [
    "user_info"
   ]
  },
  {
   "cell_type": "code",
   "execution_count": 87,
   "id": "ddadc8cc",
   "metadata": {},
   "outputs": [],
   "source": [
    "user_info['education']='MBA'"
   ]
  },
  {
   "cell_type": "code",
   "execution_count": 88,
   "id": "530fc4a1",
   "metadata": {},
   "outputs": [
    {
     "data": {
      "text/plain": [
       "{'nationalty': 'Indian',\n",
       " 'Hobby': ['coding', 'walking', 'dancing'],\n",
       " 'Education': 'B.Tech',\n",
       " 'education': 'MBA'}"
      ]
     },
     "execution_count": 88,
     "metadata": {},
     "output_type": "execute_result"
    }
   ],
   "source": [
    "user_info"
   ]
  },
  {
   "cell_type": "code",
   "execution_count": 89,
   "id": "2e3f6d47",
   "metadata": {},
   "outputs": [
    {
     "data": {
      "text/plain": [
       "'B.Tech'"
      ]
     },
     "execution_count": 89,
     "metadata": {},
     "output_type": "execute_result"
    }
   ],
   "source": [
    "user_info.pop('Education')"
   ]
  },
  {
   "cell_type": "code",
   "execution_count": 90,
   "id": "efbad229",
   "metadata": {},
   "outputs": [
    {
     "data": {
      "text/plain": [
       "{'nationalty': 'Indian',\n",
       " 'Hobby': ['coding', 'walking', 'dancing'],\n",
       " 'education': 'MBA'}"
      ]
     },
     "execution_count": 90,
     "metadata": {},
     "output_type": "execute_result"
    }
   ],
   "source": [
    "user_info"
   ]
  },
  {
   "cell_type": "markdown",
   "id": "d0ac4903",
   "metadata": {},
   "source": [
    "# dictionary Functions"
   ]
  },
  {
   "cell_type": "code",
   "execution_count": 92,
   "id": "058ae7ef",
   "metadata": {},
   "outputs": [
    {
     "data": {
      "text/plain": [
       "{'nationalty': 'Indian',\n",
       " 'Hobby': ['coding', 'walking', 'dancing'],\n",
       " 'education': 'MBA'}"
      ]
     },
     "execution_count": 92,
     "metadata": {},
     "output_type": "execute_result"
    }
   ],
   "source": [
    "user_info"
   ]
  },
  {
   "cell_type": "code",
   "execution_count": 93,
   "id": "13117ccd",
   "metadata": {},
   "outputs": [
    {
     "data": {
      "text/plain": [
       "dict_keys(['nationalty', 'Hobby', 'education'])"
      ]
     },
     "execution_count": 93,
     "metadata": {},
     "output_type": "execute_result"
    }
   ],
   "source": [
    "user_info.keys()"
   ]
  },
  {
   "cell_type": "code",
   "execution_count": 94,
   "id": "d19afbe8",
   "metadata": {},
   "outputs": [
    {
     "data": {
      "text/plain": [
       "dict_values(['Indian', ['coding', 'walking', 'dancing'], 'MBA'])"
      ]
     },
     "execution_count": 94,
     "metadata": {},
     "output_type": "execute_result"
    }
   ],
   "source": [
    "user_info.values()"
   ]
  },
  {
   "cell_type": "code",
   "execution_count": 96,
   "id": "6b3b8505",
   "metadata": {},
   "outputs": [
    {
     "data": {
      "text/plain": [
       "dict_items([('nationalty', 'Indian'), ('Hobby', ['coding', 'walking', 'dancing'])])"
      ]
     },
     "execution_count": 96,
     "metadata": {},
     "output_type": "execute_result"
    }
   ],
   "source": [
    "user_info.items()"
   ]
  },
  {
   "cell_type": "code",
   "execution_count": 97,
   "id": "ab65ca14",
   "metadata": {},
   "outputs": [
    {
     "name": "stdout",
     "output_type": "stream",
     "text": [
      "nationalty\n",
      "Hobby\n"
     ]
    }
   ],
   "source": [
    "for k in user_info:\n",
    "    print(k)"
   ]
  },
  {
   "cell_type": "code",
   "execution_count": 100,
   "id": "56a87fe8",
   "metadata": {},
   "outputs": [
    {
     "name": "stdout",
     "output_type": "stream",
     "text": [
      "Indian\n",
      "['coding', 'walking', 'dancing']\n"
     ]
    }
   ],
   "source": [
    "for k in user_info:\n",
    "    print(user_info[k])"
   ]
  },
  {
   "cell_type": "code",
   "execution_count": 101,
   "id": "2fda385e",
   "metadata": {},
   "outputs": [
    {
     "name": "stdout",
     "output_type": "stream",
     "text": [
      "nationalty : Indian\n",
      "Hobby : ['coding', 'walking', 'dancing']\n"
     ]
    }
   ],
   "source": [
    "for k,v in user_info.items():\n",
    "    print(k,':',v)"
   ]
  },
  {
   "cell_type": "markdown",
   "id": "f2314e70",
   "metadata": {},
   "source": [
    "# nested Dictionary"
   ]
  },
  {
   "cell_type": "code",
   "execution_count": 7,
   "id": "4dcffc3f",
   "metadata": {},
   "outputs": [],
   "source": [
    "canteen_menu = {\n",
    "    'samosa':10,\n",
    "    'pizza':199,\n",
    "    'burger':30,\n",
    "    'fruits':{\n",
    "        'apple':150,\n",
    "        'mango':200,\n",
    "        'banana':60\n",
    "    }\n",
    "}"
   ]
  },
  {
   "cell_type": "code",
   "execution_count": 8,
   "id": "f5ded2ee",
   "metadata": {},
   "outputs": [
    {
     "data": {
      "text/plain": [
       "{'samosa': 10,\n",
       " 'pizza': 199,\n",
       " 'burger': 30,\n",
       " 'fruits': {'apple': 150, 'mango': 200, 'banana': 60}}"
      ]
     },
     "execution_count": 8,
     "metadata": {},
     "output_type": "execute_result"
    }
   ],
   "source": [
    "canteen_menu"
   ]
  },
  {
   "cell_type": "code",
   "execution_count": 104,
   "id": "9a056ed8",
   "metadata": {},
   "outputs": [
    {
     "data": {
      "text/plain": [
       "200"
      ]
     },
     "execution_count": 104,
     "metadata": {},
     "output_type": "execute_result"
    }
   ],
   "source": [
    "canteen_menu['fruits']['mango']     # 2 level indexing"
   ]
  },
  {
   "cell_type": "code",
   "execution_count": 106,
   "id": "d7895559",
   "metadata": {},
   "outputs": [],
   "source": [
    "canteen_menu = {\n",
    "    'samosa':10,\n",
    "    'pizza':199,\n",
    "    'burger':30,\n",
    "    'fruits':{\n",
    "        'apple':150,\n",
    "        'mango':200,\n",
    "        'banana':60\n",
    "    },\n",
    "    'momos':{\n",
    "        'veg_momos':60,\n",
    "        'nonveg_momos':80,\n",
    "        'fried momos':100\n",
    "    }\n",
    "}"
   ]
  },
  {
   "cell_type": "code",
   "execution_count": 107,
   "id": "fdeea61f",
   "metadata": {},
   "outputs": [
    {
     "data": {
      "text/plain": [
       "{'samosa': 10,\n",
       " 'pizza': 199,\n",
       " 'burger': 30,\n",
       " 'fruits': {'apple': 150, 'mango': 200, 'banana': 60},\n",
       " 'momos': {'veg_momos': 60, 'nonveg_momos': 80, 'fried momos': 100}}"
      ]
     },
     "execution_count": 107,
     "metadata": {},
     "output_type": "execute_result"
    }
   ],
   "source": [
    "canteen_menu"
   ]
  },
  {
   "cell_type": "code",
   "execution_count": 109,
   "id": "978f9696",
   "metadata": {},
   "outputs": [],
   "source": [
    "canteen_menu = {\n",
    "    'samosa':10,\n",
    "    'pizza':199,\n",
    "    'burger':30,\n",
    "    'fruits':{\n",
    "        'apple':150,\n",
    "        'mango':200,\n",
    "        'banana':60\n",
    "    },\n",
    "    'momos':{\n",
    "        'veg_momos':60,\n",
    "        'nonveg_momos':80,\n",
    "        'fried momos':100\n",
    "    },\n",
    "    'juice':['large','medium','small']\n",
    "}"
   ]
  },
  {
   "cell_type": "code",
   "execution_count": 110,
   "id": "1f666479",
   "metadata": {},
   "outputs": [
    {
     "data": {
      "text/plain": [
       "{'samosa': 10,\n",
       " 'pizza': 199,\n",
       " 'burger': 30,\n",
       " 'fruits': {'apple': 150, 'mango': 200, 'banana': 60},\n",
       " 'momos': {'veg_momos': 60, 'nonveg_momos': 80, 'fried momos': 100},\n",
       " 'juice': ['large', 'medium', 'small']}"
      ]
     },
     "execution_count": 110,
     "metadata": {},
     "output_type": "execute_result"
    }
   ],
   "source": [
    "canteen_menu"
   ]
  },
  {
   "cell_type": "code",
   "execution_count": 112,
   "id": "78b24253",
   "metadata": {},
   "outputs": [
    {
     "data": {
      "text/plain": [
       "'medium'"
      ]
     },
     "execution_count": 112,
     "metadata": {},
     "output_type": "execute_result"
    }
   ],
   "source": [
    "canteen_menu['juice'][-2]"
   ]
  },
  {
   "cell_type": "code",
   "execution_count": 114,
   "id": "1d1fe4fb",
   "metadata": {},
   "outputs": [
    {
     "data": {
      "text/plain": [
       "100"
      ]
     },
     "execution_count": 114,
     "metadata": {},
     "output_type": "execute_result"
    }
   ],
   "source": [
    "canteen_menu['momos']['fried momos']"
   ]
  },
  {
   "cell_type": "code",
   "execution_count": 125,
   "id": "9c04f756",
   "metadata": {},
   "outputs": [
    {
     "ename": "TypeError",
     "evalue": "'builtin_function_or_method' object does not support item assignment",
     "output_type": "error",
     "traceback": [
      "\u001b[1;31m---------------------------------------------------------------------------\u001b[0m",
      "\u001b[1;31mTypeError\u001b[0m                                 Traceback (most recent call last)",
      "Cell \u001b[1;32mIn[125], line 1\u001b[0m\n\u001b[1;32m----> 1\u001b[0m canteen_menu\u001b[38;5;241m.\u001b[39mupdate[\u001b[38;5;124m'\u001b[39m\u001b[38;5;124mfruits\u001b[39m\u001b[38;5;124m'\u001b[39m]\u001b[38;5;241m=\u001b[39m{\u001b[38;5;124m'\u001b[39m\u001b[38;5;124morange\u001b[39m\u001b[38;5;124m'\u001b[39m:\u001b[38;5;241m120\u001b[39m}\n",
      "\u001b[1;31mTypeError\u001b[0m: 'builtin_function_or_method' object does not support item assignment"
     ]
    }
   ],
   "source": [
    "canteen_menu.update['fruits']={'orange':120}"
   ]
  },
  {
   "cell_type": "code",
   "execution_count": 117,
   "id": "647397a4",
   "metadata": {},
   "outputs": [
    {
     "data": {
      "text/plain": [
       "{'samosa': 10,\n",
       " 'pizza': 199,\n",
       " 'burger': 30,\n",
       " 'fruits': {'apple': 150, 'mango': 200, 'banana': 60},\n",
       " 'momos': {'veg_momos': 60, 'nonveg_momos': 80, 'fried momos': 100},\n",
       " 'juice': ['large', 'medium', 'small']}"
      ]
     },
     "execution_count": 117,
     "metadata": {},
     "output_type": "execute_result"
    }
   ],
   "source": [
    "canteen_menu"
   ]
  },
  {
   "cell_type": "code",
   "execution_count": 126,
   "id": "2477fc41",
   "metadata": {},
   "outputs": [],
   "source": [
    "canteen_menu['fruits']['orange']=150"
   ]
  },
  {
   "cell_type": "code",
   "execution_count": 127,
   "id": "f83b0eb1",
   "metadata": {},
   "outputs": [
    {
     "data": {
      "text/plain": [
       "{'samosa': 10,\n",
       " 'pizza': 199,\n",
       " 'burger': 30,\n",
       " 'fruits': {'apple': 150, 'mango': 200, 'banana': 60, 'orange': 150},\n",
       " 'momos': {'veg_momos': 60, 'nonveg_momos': 80, 'fried momos': 100},\n",
       " 'juice': ['large', 'medium', 'small']}"
      ]
     },
     "execution_count": 127,
     "metadata": {},
     "output_type": "execute_result"
    }
   ],
   "source": [
    "canteen_menu"
   ]
  },
  {
   "cell_type": "code",
   "execution_count": 130,
   "id": "26c32a5e",
   "metadata": {},
   "outputs": [],
   "source": [
    "canteen_menu['momos']['nonveg_momos']=120"
   ]
  },
  {
   "cell_type": "code",
   "execution_count": 9,
   "id": "c44b29e8",
   "metadata": {},
   "outputs": [
    {
     "data": {
      "text/plain": [
       "{'samosa': 10,\n",
       " 'pizza': 199,\n",
       " 'burger': 30,\n",
       " 'fruits': {'apple': 150, 'mango': 200, 'banana': 60}}"
      ]
     },
     "execution_count": 9,
     "metadata": {},
     "output_type": "execute_result"
    }
   ],
   "source": [
    "canteen_menu"
   ]
  },
  {
   "cell_type": "code",
   "execution_count": 3,
   "id": "3c9978f9",
   "metadata": {},
   "outputs": [
    {
     "ename": "NameError",
     "evalue": "name 'canteen_menu' is not defined",
     "output_type": "error",
     "traceback": [
      "\u001b[1;31m---------------------------------------------------------------------------\u001b[0m",
      "\u001b[1;31mNameError\u001b[0m                                 Traceback (most recent call last)",
      "Cell \u001b[1;32mIn[3], line 1\u001b[0m\n\u001b[1;32m----> 1\u001b[0m canteen_menu\n",
      "\u001b[1;31mNameError\u001b[0m: name 'canteen_menu' is not defined"
     ]
    }
   ],
   "source": []
  },
  {
   "cell_type": "code",
   "execution_count": 12,
   "id": "5343e355",
   "metadata": {},
   "outputs": [],
   "source": [
    "canteen_menu={\n",
    "    'samosa':20,\n",
    "    'pizza':199,\n",
    "    'burger':30,\n",
    "    'fruits':{\n",
    "        'apple':150,\n",
    "        'mango0':200,\n",
    "        'banana':60\n",
    "    },\n",
    "    'momos':{\n",
    "        'veg_momos':60,\n",
    "        'nonveg_momos':80,\n",
    "        'fried momos':100\n",
    "    },\n",
    "    'juice':['large', 'medium','small'],\n",
    "    'thali':{\n",
    "        'veg_thali':100,\n",
    "        'nonveg_thali':120,\n",
    "        'special thali':150\n",
    "             \n",
    "        }\n",
    "}"
   ]
  },
  {
   "cell_type": "code",
   "execution_count": 13,
   "id": "c8ce1f37",
   "metadata": {},
   "outputs": [
    {
     "data": {
      "text/plain": [
       "{'samosa': 20,\n",
       " 'pizza': 199,\n",
       " 'burger': 30,\n",
       " 'fruits': {'apple': 150, 'mango0': 200, 'banana': 60},\n",
       " 'momos': {'veg_momos': 60, 'nonveg_momos': 80, 'fried momos': 100},\n",
       " 'juice': ['large', 'medium', 'small'],\n",
       " 'thali': {'veg_thali': 100, 'nonveg_thali': 120, 'special thali': 150}}"
      ]
     },
     "execution_count": 13,
     "metadata": {},
     "output_type": "execute_result"
    }
   ],
   "source": [
    "canteen_menu"
   ]
  },
  {
   "cell_type": "code",
   "execution_count": null,
   "id": "af8dfa3d",
   "metadata": {},
   "outputs": [],
   "source": []
  }
 ],
 "metadata": {
  "kernelspec": {
   "display_name": "Python 3 (ipykernel)",
   "language": "python",
   "name": "python3"
  },
  "language_info": {
   "codemirror_mode": {
    "name": "ipython",
    "version": 3
   },
   "file_extension": ".py",
   "mimetype": "text/x-python",
   "name": "python",
   "nbconvert_exporter": "python",
   "pygments_lexer": "ipython3",
   "version": "3.11.4"
  }
 },
 "nbformat": 4,
 "nbformat_minor": 5
}
