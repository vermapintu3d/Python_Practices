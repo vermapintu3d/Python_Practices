{
 "cells": [
  {
   "cell_type": "code",
   "execution_count": 2,
   "id": "04bb652f",
   "metadata": {},
   "outputs": [],
   "source": [
    "# Operators and Expression\n",
    " "
   ]
  },
  {
   "cell_type": "code",
   "execution_count": 3,
   "id": "50f860a7",
   "metadata": {},
   "outputs": [],
   "source": [
    "# 1. Arithmetic operators(+,-,/,//,**,%)"
   ]
  },
  {
   "cell_type": "code",
   "execution_count": 4,
   "id": "da5a775b",
   "metadata": {},
   "outputs": [
    {
     "data": {
      "text/plain": [
       "9"
      ]
     },
     "execution_count": 4,
     "metadata": {},
     "output_type": "execute_result"
    }
   ],
   "source": [
    "4+5"
   ]
  },
  {
   "cell_type": "code",
   "execution_count": 5,
   "id": "edfe7ece",
   "metadata": {},
   "outputs": [
    {
     "data": {
      "text/plain": [
       "25"
      ]
     },
     "execution_count": 5,
     "metadata": {},
     "output_type": "execute_result"
    }
   ],
   "source": [
    "5*5"
   ]
  },
  {
   "cell_type": "code",
   "execution_count": 6,
   "id": "70ded58b",
   "metadata": {},
   "outputs": [
    {
     "data": {
      "text/plain": [
       "5.0"
      ]
     },
     "execution_count": 6,
     "metadata": {},
     "output_type": "execute_result"
    }
   ],
   "source": [
    "25/5"
   ]
  },
  {
   "cell_type": "code",
   "execution_count": 7,
   "id": "08aefba6",
   "metadata": {},
   "outputs": [
    {
     "data": {
      "text/plain": [
       "5"
      ]
     },
     "execution_count": 7,
     "metadata": {},
     "output_type": "execute_result"
    }
   ],
   "source": [
    "25//5"
   ]
  },
  {
   "cell_type": "code",
   "execution_count": 8,
   "id": "738c7ef5",
   "metadata": {},
   "outputs": [
    {
     "data": {
      "text/plain": [
       "4"
      ]
     },
     "execution_count": 8,
     "metadata": {},
     "output_type": "execute_result"
    }
   ],
   "source": [
    "2**2"
   ]
  },
  {
   "cell_type": "code",
   "execution_count": 9,
   "id": "f078d793",
   "metadata": {},
   "outputs": [
    {
     "data": {
      "text/plain": [
       "0"
      ]
     },
     "execution_count": 9,
     "metadata": {},
     "output_type": "execute_result"
    }
   ],
   "source": [
    "25%25"
   ]
  },
  {
   "cell_type": "code",
   "execution_count": 10,
   "id": "a803581c",
   "metadata": {},
   "outputs": [
    {
     "data": {
      "text/plain": [
       "0"
      ]
     },
     "execution_count": 10,
     "metadata": {},
     "output_type": "execute_result"
    }
   ],
   "source": [
    "25%5"
   ]
  },
  {
   "cell_type": "code",
   "execution_count": 11,
   "id": "be8fcf4a",
   "metadata": {},
   "outputs": [
    {
     "data": {
      "text/plain": [
       "4"
      ]
     },
     "execution_count": 11,
     "metadata": {},
     "output_type": "execute_result"
    }
   ],
   "source": [
    "24%5 #modules denoted as reminder "
   ]
  },
  {
   "cell_type": "code",
   "execution_count": 2,
   "id": "69575c5e",
   "metadata": {},
   "outputs": [],
   "source": [
    "# 2.Comparison operators(>, <, >=, <=, ==, !=)"
   ]
  },
  {
   "cell_type": "code",
   "execution_count": 3,
   "id": "03bfb4e0",
   "metadata": {},
   "outputs": [
    {
     "data": {
      "text/plain": [
       "True"
      ]
     },
     "execution_count": 3,
     "metadata": {},
     "output_type": "execute_result"
    }
   ],
   "source": [
    "10>8"
   ]
  },
  {
   "cell_type": "code",
   "execution_count": 4,
   "id": "f8ccd838",
   "metadata": {},
   "outputs": [
    {
     "data": {
      "text/plain": [
       "False"
      ]
     },
     "execution_count": 4,
     "metadata": {},
     "output_type": "execute_result"
    }
   ],
   "source": [
    "8>10"
   ]
  },
  {
   "cell_type": "code",
   "execution_count": 5,
   "id": "076e5c1c",
   "metadata": {},
   "outputs": [
    {
     "data": {
      "text/plain": [
       "True"
      ]
     },
     "execution_count": 5,
     "metadata": {},
     "output_type": "execute_result"
    }
   ],
   "source": [
    "8<10"
   ]
  },
  {
   "cell_type": "code",
   "execution_count": 6,
   "id": "57984634",
   "metadata": {},
   "outputs": [
    {
     "data": {
      "text/plain": [
       "False"
      ]
     },
     "execution_count": 6,
     "metadata": {},
     "output_type": "execute_result"
    }
   ],
   "source": [
    "10<8"
   ]
  },
  {
   "cell_type": "code",
   "execution_count": 7,
   "id": "22893a22",
   "metadata": {},
   "outputs": [
    {
     "data": {
      "text/plain": [
       "True"
      ]
     },
     "execution_count": 7,
     "metadata": {},
     "output_type": "execute_result"
    }
   ],
   "source": [
    "10>=10"
   ]
  },
  {
   "cell_type": "code",
   "execution_count": 8,
   "id": "dc7ed7dd",
   "metadata": {},
   "outputs": [
    {
     "data": {
      "text/plain": [
       "False"
      ]
     },
     "execution_count": 8,
     "metadata": {},
     "output_type": "execute_result"
    }
   ],
   "source": [
    "10>=12"
   ]
  },
  {
   "cell_type": "code",
   "execution_count": 9,
   "id": "0d858af6",
   "metadata": {},
   "outputs": [
    {
     "data": {
      "text/plain": [
       "True"
      ]
     },
     "execution_count": 9,
     "metadata": {},
     "output_type": "execute_result"
    }
   ],
   "source": [
    "12>=8"
   ]
  },
  {
   "cell_type": "code",
   "execution_count": 10,
   "id": "28aed5c7",
   "metadata": {},
   "outputs": [
    {
     "data": {
      "text/plain": [
       "False"
      ]
     },
     "execution_count": 10,
     "metadata": {},
     "output_type": "execute_result"
    }
   ],
   "source": [
    "12<=8"
   ]
  },
  {
   "cell_type": "code",
   "execution_count": 11,
   "id": "9ced7d64",
   "metadata": {},
   "outputs": [
    {
     "data": {
      "text/plain": [
       "True"
      ]
     },
     "execution_count": 11,
     "metadata": {},
     "output_type": "execute_result"
    }
   ],
   "source": [
    "12<=20"
   ]
  },
  {
   "cell_type": "code",
   "execution_count": 12,
   "id": "fc82ffd0",
   "metadata": {},
   "outputs": [
    {
     "data": {
      "text/plain": [
       "True"
      ]
     },
     "execution_count": 12,
     "metadata": {},
     "output_type": "execute_result"
    }
   ],
   "source": [
    "12==12"
   ]
  },
  {
   "cell_type": "code",
   "execution_count": 13,
   "id": "5319951d",
   "metadata": {},
   "outputs": [
    {
     "data": {
      "text/plain": [
       "False"
      ]
     },
     "execution_count": 13,
     "metadata": {},
     "output_type": "execute_result"
    }
   ],
   "source": [
    "12==10"
   ]
  },
  {
   "cell_type": "code",
   "execution_count": 14,
   "id": "0f95cf7d",
   "metadata": {},
   "outputs": [
    {
     "data": {
      "text/plain": [
       "True"
      ]
     },
     "execution_count": 14,
     "metadata": {},
     "output_type": "execute_result"
    }
   ],
   "source": [
    "12!=10"
   ]
  },
  {
   "cell_type": "code",
   "execution_count": 15,
   "id": "c8b68b77",
   "metadata": {},
   "outputs": [
    {
     "data": {
      "text/plain": [
       "False"
      ]
     },
     "execution_count": 15,
     "metadata": {},
     "output_type": "execute_result"
    }
   ],
   "source": [
    "12!=12"
   ]
  },
  {
   "cell_type": "code",
   "execution_count": null,
   "id": "15db3b5b",
   "metadata": {},
   "outputs": [],
   "source": [
    "# 3 Logical Operators(AND, OR, NOT)"
   ]
  },
  {
   "cell_type": "code",
   "execution_count": 16,
   "id": "824c9514",
   "metadata": {},
   "outputs": [
    {
     "data": {
      "text/plain": [
       "True"
      ]
     },
     "execution_count": 16,
     "metadata": {},
     "output_type": "execute_result"
    }
   ],
   "source": [
    "(10>8 and 12>10)"
   ]
  },
  {
   "cell_type": "code",
   "execution_count": 18,
   "id": "af6996b4",
   "metadata": {},
   "outputs": [
    {
     "data": {
      "text/plain": [
       "False"
      ]
     },
     "execution_count": 18,
     "metadata": {},
     "output_type": "execute_result"
    }
   ],
   "source": [
    "(10>12 and 12>10)"
   ]
  },
  {
   "cell_type": "code",
   "execution_count": 21,
   "id": "7c347ff7",
   "metadata": {},
   "outputs": [
    {
     "data": {
      "text/plain": [
       "True"
      ]
     },
     "execution_count": 21,
     "metadata": {},
     "output_type": "execute_result"
    }
   ],
   "source": [
    "(10>8 or 12>10)"
   ]
  },
  {
   "cell_type": "code",
   "execution_count": 22,
   "id": "b1761213",
   "metadata": {},
   "outputs": [
    {
     "data": {
      "text/plain": [
       "True"
      ]
     },
     "execution_count": 22,
     "metadata": {},
     "output_type": "execute_result"
    }
   ],
   "source": [
    "(10>8 or 10>10)"
   ]
  },
  {
   "cell_type": "code",
   "execution_count": 23,
   "id": "79469425",
   "metadata": {},
   "outputs": [
    {
     "data": {
      "text/plain": [
       "True"
      ]
     },
     "execution_count": 23,
     "metadata": {},
     "output_type": "execute_result"
    }
   ],
   "source": [
    "(10>8 or 5<20)"
   ]
  },
  {
   "cell_type": "code",
   "execution_count": 27,
   "id": "39c97d34",
   "metadata": {},
   "outputs": [
    {
     "data": {
      "text/plain": [
       "True"
      ]
     },
     "execution_count": 27,
     "metadata": {},
     "output_type": "execute_result"
    }
   ],
   "source": [
    "(10>5 and 15>5)"
   ]
  },
  {
   "cell_type": "code",
   "execution_count": 28,
   "id": "fa2481fe",
   "metadata": {},
   "outputs": [
    {
     "data": {
      "text/plain": [
       "False"
      ]
     },
     "execution_count": 28,
     "metadata": {},
     "output_type": "execute_result"
    }
   ],
   "source": [
    "not(10>5 and 15>5)"
   ]
  },
  {
   "cell_type": "code",
   "execution_count": 29,
   "id": "fd99639c",
   "metadata": {},
   "outputs": [],
   "source": [
    "# 4. Bitwise operators (&, |, ^)"
   ]
  },
  {
   "cell_type": "code",
   "execution_count": 1,
   "id": "921db5cd",
   "metadata": {},
   "outputs": [
    {
     "data": {
      "text/plain": [
       "'0b1010'"
      ]
     },
     "execution_count": 1,
     "metadata": {},
     "output_type": "execute_result"
    }
   ],
   "source": [
    "bin(10)"
   ]
  },
  {
   "cell_type": "code",
   "execution_count": 2,
   "id": "fe2193eb",
   "metadata": {},
   "outputs": [
    {
     "data": {
      "text/plain": [
       "'0b101'"
      ]
     },
     "execution_count": 2,
     "metadata": {},
     "output_type": "execute_result"
    }
   ],
   "source": [
    "bin(5)"
   ]
  },
  {
   "cell_type": "code",
   "execution_count": 3,
   "id": "1b407306",
   "metadata": {},
   "outputs": [
    {
     "data": {
      "text/plain": [
       "0"
      ]
     },
     "execution_count": 3,
     "metadata": {},
     "output_type": "execute_result"
    }
   ],
   "source": [
    "10 & 4"
   ]
  },
  {
   "cell_type": "code",
   "execution_count": 4,
   "id": "d1cfb408",
   "metadata": {},
   "outputs": [
    {
     "data": {
      "text/plain": [
       "14"
      ]
     },
     "execution_count": 4,
     "metadata": {},
     "output_type": "execute_result"
    }
   ],
   "source": [
    "10 | 4"
   ]
  },
  {
   "cell_type": "code",
   "execution_count": 5,
   "id": "cc8054d3",
   "metadata": {},
   "outputs": [
    {
     "data": {
      "text/plain": [
       "14"
      ]
     },
     "execution_count": 5,
     "metadata": {},
     "output_type": "execute_result"
    }
   ],
   "source": [
    "10^4"
   ]
  },
  {
   "cell_type": "code",
   "execution_count": 6,
   "id": "df0d8edd",
   "metadata": {},
   "outputs": [],
   "source": [
    "# 5. Assignment operators(=, +=, -=, *=, /=)"
   ]
  },
  {
   "cell_type": "code",
   "execution_count": 7,
   "id": "a78aac2e",
   "metadata": {},
   "outputs": [],
   "source": [
    "t = 5"
   ]
  },
  {
   "cell_type": "code",
   "execution_count": 8,
   "id": "f6903a3e",
   "metadata": {},
   "outputs": [],
   "source": [
    "t = t+5  #(same as t+=5)"
   ]
  },
  {
   "cell_type": "code",
   "execution_count": 9,
   "id": "ae5ef81d",
   "metadata": {},
   "outputs": [
    {
     "data": {
      "text/plain": [
       "10"
      ]
     },
     "execution_count": 9,
     "metadata": {},
     "output_type": "execute_result"
    }
   ],
   "source": [
    "t"
   ]
  },
  {
   "cell_type": "code",
   "execution_count": 10,
   "id": "6163385d",
   "metadata": {},
   "outputs": [],
   "source": [
    "t+=10"
   ]
  },
  {
   "cell_type": "code",
   "execution_count": 11,
   "id": "6184d192",
   "metadata": {},
   "outputs": [
    {
     "data": {
      "text/plain": [
       "20"
      ]
     },
     "execution_count": 11,
     "metadata": {},
     "output_type": "execute_result"
    }
   ],
   "source": [
    "t"
   ]
  },
  {
   "cell_type": "code",
   "execution_count": 13,
   "id": "3895fc6e",
   "metadata": {},
   "outputs": [],
   "source": [
    "t=-5"
   ]
  },
  {
   "cell_type": "code",
   "execution_count": 14,
   "id": "dc93da01",
   "metadata": {},
   "outputs": [
    {
     "data": {
      "text/plain": [
       "-5"
      ]
     },
     "execution_count": 14,
     "metadata": {},
     "output_type": "execute_result"
    }
   ],
   "source": [
    "t"
   ]
  },
  {
   "cell_type": "code",
   "execution_count": 15,
   "id": "772f8100",
   "metadata": {},
   "outputs": [],
   "source": [
    "t-=5"
   ]
  },
  {
   "cell_type": "code",
   "execution_count": 16,
   "id": "ca46c1c6",
   "metadata": {},
   "outputs": [
    {
     "data": {
      "text/plain": [
       "-10"
      ]
     },
     "execution_count": 16,
     "metadata": {},
     "output_type": "execute_result"
    }
   ],
   "source": [
    "t"
   ]
  },
  {
   "cell_type": "code",
   "execution_count": 17,
   "id": "53a3f9b8",
   "metadata": {},
   "outputs": [],
   "source": [
    "t+=20"
   ]
  },
  {
   "cell_type": "code",
   "execution_count": 18,
   "id": "caa5702f",
   "metadata": {},
   "outputs": [
    {
     "data": {
      "text/plain": [
       "10"
      ]
     },
     "execution_count": 18,
     "metadata": {},
     "output_type": "execute_result"
    }
   ],
   "source": [
    "t"
   ]
  },
  {
   "cell_type": "code",
   "execution_count": 19,
   "id": "50a44732",
   "metadata": {},
   "outputs": [],
   "source": [
    "t*=5"
   ]
  },
  {
   "cell_type": "code",
   "execution_count": 20,
   "id": "b9cc7a19",
   "metadata": {},
   "outputs": [
    {
     "data": {
      "text/plain": [
       "50"
      ]
     },
     "execution_count": 20,
     "metadata": {},
     "output_type": "execute_result"
    }
   ],
   "source": [
    "t"
   ]
  },
  {
   "cell_type": "code",
   "execution_count": 21,
   "id": "4f83884f",
   "metadata": {},
   "outputs": [],
   "source": [
    "t/=5"
   ]
  },
  {
   "cell_type": "code",
   "execution_count": 22,
   "id": "4ad77c3e",
   "metadata": {},
   "outputs": [
    {
     "data": {
      "text/plain": [
       "10.0"
      ]
     },
     "execution_count": 22,
     "metadata": {},
     "output_type": "execute_result"
    }
   ],
   "source": [
    "t"
   ]
  },
  {
   "cell_type": "code",
   "execution_count": 24,
   "id": "baaf0020",
   "metadata": {},
   "outputs": [],
   "source": [
    "# 6. Special operators\n",
    "   # Membership Operators\n",
    "    # in\n",
    "    # not in\n",
    "   # Identity Operators\n",
    "    #is\n",
    "    #is not"
   ]
  },
  {
   "cell_type": "code",
   "execution_count": 25,
   "id": "28a8a52c",
   "metadata": {},
   "outputs": [],
   "source": [
    "x = \"My name is Pintu Verma\""
   ]
  },
  {
   "cell_type": "code",
   "execution_count": 28,
   "id": "4419a5d0",
   "metadata": {},
   "outputs": [
    {
     "data": {
      "text/plain": [
       "True"
      ]
     },
     "execution_count": 28,
     "metadata": {},
     "output_type": "execute_result"
    }
   ],
   "source": [
    "\"a\" in x"
   ]
  },
  {
   "cell_type": "code",
   "execution_count": 29,
   "id": "f2cc95de",
   "metadata": {},
   "outputs": [
    {
     "data": {
      "text/plain": [
       "False"
      ]
     },
     "execution_count": 29,
     "metadata": {},
     "output_type": "execute_result"
    }
   ],
   "source": [
    "\"verma\" in x"
   ]
  },
  {
   "cell_type": "code",
   "execution_count": 30,
   "id": "412c0223",
   "metadata": {},
   "outputs": [
    {
     "data": {
      "text/plain": [
       "True"
      ]
     },
     "execution_count": 30,
     "metadata": {},
     "output_type": "execute_result"
    }
   ],
   "source": [
    "\"Verma\" in x"
   ]
  },
  {
   "cell_type": "code",
   "execution_count": 31,
   "id": "ddb20f99",
   "metadata": {},
   "outputs": [
    {
     "data": {
      "text/plain": [
       "True"
      ]
     },
     "execution_count": 31,
     "metadata": {},
     "output_type": "execute_result"
    }
   ],
   "source": [
    "\"verma\" not in x"
   ]
  },
  {
   "cell_type": "code",
   "execution_count": 32,
   "id": "0fafd8f5",
   "metadata": {},
   "outputs": [
    {
     "data": {
      "text/plain": [
       "False"
      ]
     },
     "execution_count": 32,
     "metadata": {},
     "output_type": "execute_result"
    }
   ],
   "source": [
    "\"Verma\" not in x"
   ]
  },
  {
   "cell_type": "code",
   "execution_count": 33,
   "id": "a0fb3b77",
   "metadata": {},
   "outputs": [],
   "source": [
    "#Identity Operators"
   ]
  },
  {
   "cell_type": "code",
   "execution_count": 34,
   "id": "a0f61b6e",
   "metadata": {},
   "outputs": [],
   "source": [
    "k = 100"
   ]
  },
  {
   "cell_type": "code",
   "execution_count": 35,
   "id": "9b24ff79",
   "metadata": {},
   "outputs": [
    {
     "data": {
      "text/plain": [
       "140733531791240"
      ]
     },
     "execution_count": 35,
     "metadata": {},
     "output_type": "execute_result"
    }
   ],
   "source": [
    "id(k)"
   ]
  },
  {
   "cell_type": "code",
   "execution_count": 36,
   "id": "ae5191a9",
   "metadata": {},
   "outputs": [],
   "source": [
    "l = 50"
   ]
  },
  {
   "cell_type": "code",
   "execution_count": 37,
   "id": "d329cf18",
   "metadata": {},
   "outputs": [
    {
     "data": {
      "text/plain": [
       "140733531789640"
      ]
     },
     "execution_count": 37,
     "metadata": {},
     "output_type": "execute_result"
    }
   ],
   "source": [
    "id(l)"
   ]
  },
  {
   "cell_type": "code",
   "execution_count": 38,
   "id": "187ba02b",
   "metadata": {},
   "outputs": [
    {
     "data": {
      "text/plain": [
       "False"
      ]
     },
     "execution_count": 38,
     "metadata": {},
     "output_type": "execute_result"
    }
   ],
   "source": [
    "k is l"
   ]
  },
  {
   "cell_type": "code",
   "execution_count": 39,
   "id": "f865d39d",
   "metadata": {},
   "outputs": [
    {
     "data": {
      "text/plain": [
       "True"
      ]
     },
     "execution_count": 39,
     "metadata": {},
     "output_type": "execute_result"
    }
   ],
   "source": [
    "k is not l"
   ]
  },
  {
   "cell_type": "code",
   "execution_count": 40,
   "id": "87f3270d",
   "metadata": {},
   "outputs": [],
   "source": [
    "l = 100"
   ]
  },
  {
   "cell_type": "code",
   "execution_count": 41,
   "id": "48680e37",
   "metadata": {},
   "outputs": [
    {
     "data": {
      "text/plain": [
       "True"
      ]
     },
     "execution_count": 41,
     "metadata": {},
     "output_type": "execute_result"
    }
   ],
   "source": [
    "k is l"
   ]
  },
  {
   "cell_type": "code",
   "execution_count": 42,
   "id": "131a3fb5",
   "metadata": {},
   "outputs": [
    {
     "data": {
      "text/plain": [
       "True"
      ]
     },
     "execution_count": 42,
     "metadata": {},
     "output_type": "execute_result"
    }
   ],
   "source": [
    "k==l"
   ]
  },
  {
   "cell_type": "code",
   "execution_count": 43,
   "id": "db26c1ba",
   "metadata": {},
   "outputs": [
    {
     "data": {
      "text/plain": [
       "False"
      ]
     },
     "execution_count": 43,
     "metadata": {},
     "output_type": "execute_result"
    }
   ],
   "source": [
    "k!=l"
   ]
  },
  {
   "cell_type": "code",
   "execution_count": null,
   "id": "e17f4982",
   "metadata": {},
   "outputs": [],
   "source": []
  }
 ],
 "metadata": {
  "kernelspec": {
   "display_name": "Python 3 (ipykernel)",
   "language": "python",
   "name": "python3"
  },
  "language_info": {
   "codemirror_mode": {
    "name": "ipython",
    "version": 3
   },
   "file_extension": ".py",
   "mimetype": "text/x-python",
   "name": "python",
   "nbconvert_exporter": "python",
   "pygments_lexer": "ipython3",
   "version": "3.11.4"
  }
 },
 "nbformat": 4,
 "nbformat_minor": 5
}
